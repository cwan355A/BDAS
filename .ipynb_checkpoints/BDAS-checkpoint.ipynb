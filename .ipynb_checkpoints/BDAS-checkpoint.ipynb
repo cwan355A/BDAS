{
 "cells": [
  {
   "cell_type": "code",
   "execution_count": 1,
   "id": "89f1e685",
   "metadata": {},
   "outputs": [
    {
     "name": "stderr",
     "output_type": "stream",
     "text": [
      "WARNING: An illegal reflective access operation has occurred\n",
      "WARNING: Illegal reflective access by org.apache.spark.unsafe.Platform (file:/home/ubuntu/spark-3.2.1-bin-hadoop2.7/jars/spark-unsafe_2.12-3.2.1.jar) to constructor java.nio.DirectByteBuffer(long,int)\n",
      "WARNING: Please consider reporting this to the maintainers of org.apache.spark.unsafe.Platform\n",
      "WARNING: Use --illegal-access=warn to enable warnings of further illegal reflective access operations\n",
      "WARNING: All illegal access operations will be denied in a future release\n",
      "Using Spark's default log4j profile: org/apache/spark/log4j-defaults.properties\n",
      "Setting default log level to \"WARN\".\n",
      "To adjust logging level use sc.setLogLevel(newLevel). For SparkR, use setLogLevel(newLevel).\n",
      "23/10/08 09:17:13 WARN NativeCodeLoader: Unable to load native-hadoop library for your platform... using builtin-java classes where applicable\n",
      "                                                                                \r"
     ]
    },
    {
     "name": "stdout",
     "output_type": "stream",
     "text": [
      "root\n",
      " |-- dt: string (nullable = true)\n",
      " |-- LandAverageTemperature: double (nullable = true)\n",
      " |-- LandAverageTemperatureUncertainty: double (nullable = true)\n",
      " |-- LandMaxTemperature: double (nullable = true)\n",
      " |-- LandMaxTemperatureUncertainty: double (nullable = true)\n",
      " |-- LandMinTemperature: double (nullable = true)\n",
      " |-- LandMinTemperatureUncertainty: double (nullable = true)\n",
      " |-- LandAndOceanAverageTemperature: double (nullable = true)\n",
      " |-- LandAndOceanAverageTemperatureUncertainty: double (nullable = true)\n",
      "\n"
     ]
    },
    {
     "name": "stderr",
     "output_type": "stream",
     "text": [
      "                                                                                \r"
     ]
    },
    {
     "name": "stdout",
     "output_type": "stream",
     "text": [
      "+-------+----------+----------------------+---------------------------------+------------------+-----------------------------+------------------+-----------------------------+------------------------------+-----------------------------------------+\n",
      "|summary|        dt|LandAverageTemperature|LandAverageTemperatureUncertainty|LandMaxTemperature|LandMaxTemperatureUncertainty|LandMinTemperature|LandMinTemperatureUncertainty|LandAndOceanAverageTemperature|LandAndOceanAverageTemperatureUncertainty|\n",
      "+-------+----------+----------------------+---------------------------------+------------------+-----------------------------+------------------+-----------------------------+------------------------------+-----------------------------------------+\n",
      "|  count|      3192|                  3180|                             3180|              1992|                         1992|              1992|                         1992|                          1992|                                     1992|\n",
      "|   mean|      null|     8.374731132075466|               0.9384679245283027|14.350600903614467|          0.47978162650602346|2.7435953815261076|            0.431848895582329|            15.212565763052215|                      0.12853212851405638|\n",
      "| stddev|      null|    4.3813097707251805|               1.0964397949200564| 4.309578965948537|           0.5832029574744946| 4.155835320049621|           0.4458378370608339|            1.2740929544373867|                      0.07358679600543891|\n",
      "|    min|1750-01-01|                 -2.08|                            0.034|               5.9|                        0.044|            -5.407|                        0.045|                        12.475|                                    0.042|\n",
      "|    max|2015-12-01|                19.021|                             7.88|             21.32|                        4.373|             9.715|                        3.498|                        17.611|                                    0.457|\n",
      "+-------+----------+----------------------+---------------------------------+------------------+-----------------------------+------------------+-----------------------------+------------------------------+-----------------------------------------+\n",
      "\n"
     ]
    },
    {
     "name": "stderr",
     "output_type": "stream",
     "text": [
      "23/10/08 09:17:34 WARN CSVHeaderChecker: CSV header does not conform to the schema.\n",
      " Header: , Country, Energy_type, Year, Energy_consumption, Energy_production, GDP, Population, Energy_intensity_per_capita, Energy_intensity_by_GDP, CO2_emission\n",
      " Schema: _c0, Country, Energy_type, Year, Energy_consumption, Energy_production, GDP, Population, Energy_intensity_per_capita, Energy_intensity_by_GDP, CO2_emission\n",
      "Expected: _c0 but found: \n",
      "CSV file: file:///home/ubuntu/BDAS/energy_orginal.csv\n",
      "[Stage 6:>                                                          (0 + 1) / 1]\r"
     ]
    },
    {
     "name": "stdout",
     "output_type": "stream",
     "text": [
      "+-------+------------------+-----------+------------------+------------------+------------------+------------------+-----------------+------------------+---------------------------+-----------------------+-----------------+\n",
      "|summary|               _c0|    Country|       Energy_type|              Year|Energy_consumption| Energy_production|              GDP|        Population|Energy_intensity_per_capita|Energy_intensity_by_GDP|     CO2_emission|\n",
      "+-------+------------------+-----------+------------------+------------------+------------------+------------------+-----------------+------------------+---------------------------+-----------------------+-----------------+\n",
      "|  count|             55440|      55440|             55440|             55440|             44287|             44289|            40026|             46014|                      50358|                  50358|            51614|\n",
      "|   mean|           27719.5|       null|              null|            1999.5| 1.537810796086253| 1.532700011827498|827.1441263536326|62630.204774357255|          71.89891370173498|      3.695103862962411|78.80008185216111|\n",
      "| stddev|16004.293798852857|       null|              null|11.543500489144543|15.456596459863198|15.303556130414954| 5981.70314401697|456208.82034596085|         113.72873842192115|        4.5907345995713| 902.221462888287|\n",
      "|    min|                 0|Afghanistan|  all_energy_types|              1980|      -0.000121294|         -1.00E-39|         0.124958|           100.028|                          0|                      0|     -0.000138354|\n",
      "|    max|              9999|   Zimbabwe|renewables_n_other|              2019|       99.79480965|       99.69778782|          996.274|          9996.447|                99.94587397|            9.995589759|              995|\n",
      "+-------+------------------+-----------+------------------+------------------+------------------+------------------+-----------------+------------------+---------------------------+-----------------------+-----------------+\n",
      "\n"
     ]
    },
    {
     "name": "stderr",
     "output_type": "stream",
     "text": [
      "\r",
      "                                                                                \r"
     ]
    }
   ],
   "source": [
    "# load BDAS.py\n",
    "\n",
    "\n",
    "# 01-BU\n",
    "import findspark\n",
    "findspark.init('/home/ubuntu/spark-3.2.1-bin-hadoop2.7')\n",
    "import pyspark\n",
    "from pyspark.sql import SparkSession\n",
    "spark = SparkSession.builder.appName('operations').getOrCreate()\n",
    "import pandas as pd\n",
    "import numpy as np\n",
    "import csv\n",
    "from datetime import datetime\n",
    "import sklearn\n",
    "from matplotlib import pyplot\n",
    "\n",
    "fileTemperature = 'GlobalTemperatures_orginal.csv'\n",
    "fileEnergy = 'energy_orginal.csv'\n",
    "# 02-DU\n",
    "dft = spark.read.csv(fileTemperature, inferSchema=True, header=True)\n",
    "dft.printSchema()\n",
    "dft.describe().show()\n",
    "\n",
    "dfe = spark.read.csv(fileEnergy, header=True)\n",
    "dfe.describe().show()"
   ]
  },
  {
   "cell_type": "code",
   "execution_count": 9,
   "id": "fca507ae",
   "metadata": {},
   "outputs": [
    {
     "name": "stderr",
     "output_type": "stream",
     "text": [
      "23/10/08 02:41:07 WARN CSVHeaderChecker: CSV header does not conform to the schema.\n",
      " Header: , Country, Energy_type, Year, Energy_consumption, Energy_production, GDP, Population, Energy_intensity_per_capita, Energy_intensity_by_GDP, CO2_emission\n",
      " Schema: _c0, Country, Energy_type, Year, Energy_consumption, Energy_production, GDP, Population, Energy_intensity_per_capita, Energy_intensity_by_GDP, CO2_emission\n",
      "Expected: _c0 but found: \n",
      "CSV file: file:///home/ubuntu/BDAS/energy_orginal.csv\n",
      "[Stage 84:>                                                         (0 + 1) / 1]\r"
     ]
    },
    {
     "name": "stdout",
     "output_type": "stream",
     "text": [
      "+-------+------------------+-----------+------------------+------------------+------------------+------------------+-----------------+------------------+---------------------------+-----------------------+-----------------+\n",
      "|summary|               _c0|    Country|       Energy_type|              Year|Energy_consumption| Energy_production|              GDP|        Population|Energy_intensity_per_capita|Energy_intensity_by_GDP|     CO2_emission|\n",
      "+-------+------------------+-----------+------------------+------------------+------------------+------------------+-----------------+------------------+---------------------------+-----------------------+-----------------+\n",
      "|  count|             55440|      55440|             55440|             55440|             44287|             44289|            40026|             46014|                      50358|                  50358|            51614|\n",
      "|   mean|           27719.5|       null|              null|            1999.5| 1.537810796086253| 1.532700011827498|827.1441263536326|62630.204774357255|          71.89891370173498|      3.695103862962411|78.80008185216111|\n",
      "| stddev|16004.293798852857|       null|              null|11.543500489144543|15.456596459863198|15.303556130414954| 5981.70314401697|456208.82034596085|         113.72873842192115|        4.5907345995713| 902.221462888287|\n",
      "|    min|                 0|Afghanistan|  all_energy_types|              1980|      -0.000121294|         -1.00E-39|         0.124958|           100.028|                          0|                      0|     -0.000138354|\n",
      "|    max|              9999|   Zimbabwe|renewables_n_other|              2019|       99.79480965|       99.69778782|          996.274|          9996.447|                99.94587397|            9.995589759|              995|\n",
      "+-------+------------------+-----------+------------------+------------------+------------------+------------------+-----------------+------------------+---------------------------+-----------------------+-----------------+\n",
      "\n"
     ]
    },
    {
     "name": "stderr",
     "output_type": "stream",
     "text": [
      "\r",
      "                                                                                \r"
     ]
    }
   ],
   "source": [
    "dfe = spark.read.csv(fileEnergy, header=True)\n",
    "dfe.describe().show()"
   ]
  },
  {
   "cell_type": "code",
   "execution_count": 10,
   "id": "01e83424",
   "metadata": {},
   "outputs": [
    {
     "name": "stdout",
     "output_type": "stream",
     "text": [
      "+----------+----------------------+---------------------------------+------------------+-----------------------------+-------------------+-----------------------------+------------------------------+-----------------------------------------+\n",
      "|        dt|LandAverageTemperature|LandAverageTemperatureUncertainty|LandMaxTemperature|LandMaxTemperatureUncertainty| LandMinTemperature|LandMinTemperatureUncertainty|LandAndOceanAverageTemperature|LandAndOceanAverageTemperatureUncertainty|\n",
      "+----------+----------------------+---------------------------------+------------------+-----------------------------+-------------------+-----------------------------+------------------------------+-----------------------------------------+\n",
      "|1850-01-01|    0.7490000000000001|                            1.105| 8.241999999999999|           1.7380000000000002|-3.2060000000000004|                        2.822|            12.832999999999998|                       0.3670000000000001|\n",
      "|1850-02-01|                 3.071|                            1.275|              9.97|                        3.007|-2.2910000000000004|           1.6230000000000002|                        13.588|                                    0.414|\n",
      "|1850-03-01|                 4.954|                            0.955|10.347000000000001|                        2.401|             -1.905|                         1.41|                        14.043|                                    0.341|\n",
      "|1850-04-01|    7.2170000000000005|                            0.665|            12.934|                        1.004|              1.018|                        1.329|                        14.667|                                    0.267|\n",
      "|1850-05-01|                10.004|                            0.617|            15.655|                        2.406|              3.811|                        1.347|                        15.507|                                    0.249|\n",
      "|1850-06-01|                 13.15|                            0.614|            18.946|                        2.817|              7.106|                        0.857|            16.352999999999998|                                    0.245|\n",
      "|1850-07-01|                14.492|                            0.614|            19.233|                         2.84|              8.014|           0.7859999999999999|                        16.783|                                    0.238|\n",
      "|1850-08-01|    14.039000000000001|                            0.802|            18.477|                        2.079|  7.405999999999999|                        1.086|                        16.718|                                     0.28|\n",
      "|1850-09-01|                11.505|                            0.675|15.846000000000002|                        2.692|              4.533|                        1.798|                        15.886|                                    0.254|\n",
      "|1850-10-01|     8.091000000000001|                            0.863|            13.189|                        2.338|              2.013|                        2.133|                        14.831|                                    0.297|\n",
      "|1850-11-01|    4.7330000000000005|                            1.149|            11.388|                        3.491|              -0.12|                        1.069|                        13.897|                                    0.368|\n",
      "|1850-12-01|                 2.803|                            1.183| 7.492999999999999|                        1.925|-2.8070000000000004|                        2.594|                          13.3|                                    0.378|\n",
      "|1851-01-01|                 2.431|                            1.122| 8.950999999999997|                        2.399|             -2.443|                        1.771|                        13.245|                                    0.362|\n",
      "|1851-02-01|                 2.508|                              1.1|             9.808|                        2.654|             -1.507|                        2.714|                        13.331|                                    0.361|\n",
      "|1851-03-01|                 4.192|                            0.971|            11.507|                        2.037|-0.7000000000000001|                        1.611|                        13.897|                                     0.33|\n",
      "|1851-04-01|     7.286999999999999|               0.8290000000000001|14.235999999999999|                         1.97|              2.331|                        1.281|                         14.64|                                    0.298|\n",
      "|1851-05-01|                11.113|                            0.936|15.010000000000002|                        3.184|              4.136|                        1.011|                        15.771|                                    0.322|\n",
      "|1851-06-01|                13.418|                            0.655|17.287999999999997|                        3.187| 6.3740000000000006|                         1.13|            16.496000000000002|                                    0.261|\n",
      "|1851-07-01|    14.530999999999999|                            0.606|17.102999999999998|                        3.751|              7.425|                         1.48|                        16.831|                                    0.244|\n",
      "|1851-08-01|                13.751|                            0.775|17.360999999999994|                        1.392|  6.594999999999999|                        1.281|            16.621000000000002|                                    0.276|\n",
      "+----------+----------------------+---------------------------------+------------------+-----------------------------+-------------------+-----------------------------+------------------------------+-----------------------------------------+\n",
      "only showing top 20 rows\n",
      "\n"
     ]
    }
   ],
   "source": [
    "dft.na.drop().show()"
   ]
  },
  {
   "cell_type": "code",
   "execution_count": 11,
   "id": "c9bf298a",
   "metadata": {},
   "outputs": [
    {
     "name": "stdout",
     "output_type": "stream",
     "text": [
      "+----------+----------------------+---------------------------------+------------------+-----------------------------+-------------------+-----------------------------+------------------------------+-----------------------------------------+\n",
      "|        dt|LandAverageTemperature|LandAverageTemperatureUncertainty|LandMaxTemperature|LandMaxTemperatureUncertainty| LandMinTemperature|LandMinTemperatureUncertainty|LandAndOceanAverageTemperature|LandAndOceanAverageTemperatureUncertainty|\n",
      "+----------+----------------------+---------------------------------+------------------+-----------------------------+-------------------+-----------------------------+------------------------------+-----------------------------------------+\n",
      "|1850-01-01|    0.7490000000000001|                            1.105| 8.241999999999999|           1.7380000000000002|-3.2060000000000004|                        2.822|            12.832999999999998|                       0.3670000000000001|\n",
      "|1850-02-01|                 3.071|                            1.275|              9.97|                        3.007|-2.2910000000000004|           1.6230000000000002|                        13.588|                                    0.414|\n",
      "|1850-03-01|                 4.954|                            0.955|10.347000000000001|                        2.401|             -1.905|                         1.41|                        14.043|                                    0.341|\n",
      "|1850-04-01|    7.2170000000000005|                            0.665|            12.934|                        1.004|              1.018|                        1.329|                        14.667|                                    0.267|\n",
      "|1850-05-01|                10.004|                            0.617|            15.655|                        2.406|              3.811|                        1.347|                        15.507|                                    0.249|\n",
      "|1850-06-01|                 13.15|                            0.614|            18.946|                        2.817|              7.106|                        0.857|            16.352999999999998|                                    0.245|\n",
      "|1850-07-01|                14.492|                            0.614|            19.233|                         2.84|              8.014|           0.7859999999999999|                        16.783|                                    0.238|\n",
      "|1850-08-01|    14.039000000000001|                            0.802|            18.477|                        2.079|  7.405999999999999|                        1.086|                        16.718|                                     0.28|\n",
      "|1850-09-01|                11.505|                            0.675|15.846000000000002|                        2.692|              4.533|                        1.798|                        15.886|                                    0.254|\n",
      "|1850-10-01|     8.091000000000001|                            0.863|            13.189|                        2.338|              2.013|                        2.133|                        14.831|                                    0.297|\n",
      "|1850-11-01|    4.7330000000000005|                            1.149|            11.388|                        3.491|              -0.12|                        1.069|                        13.897|                                    0.368|\n",
      "|1850-12-01|                 2.803|                            1.183| 7.492999999999999|                        1.925|-2.8070000000000004|                        2.594|                          13.3|                                    0.378|\n",
      "|1851-01-01|                 2.431|                            1.122| 8.950999999999997|                        2.399|             -2.443|                        1.771|                        13.245|                                    0.362|\n",
      "|1851-02-01|                 2.508|                              1.1|             9.808|                        2.654|             -1.507|                        2.714|                        13.331|                                    0.361|\n",
      "|1851-03-01|                 4.192|                            0.971|            11.507|                        2.037|-0.7000000000000001|                        1.611|                        13.897|                                     0.33|\n",
      "|1851-04-01|     7.286999999999999|               0.8290000000000001|14.235999999999999|                         1.97|              2.331|                        1.281|                         14.64|                                    0.298|\n",
      "|1851-05-01|                11.113|                            0.936|15.010000000000002|                        3.184|              4.136|                        1.011|                        15.771|                                    0.322|\n",
      "|1851-06-01|                13.418|                            0.655|17.287999999999997|                        3.187| 6.3740000000000006|                         1.13|            16.496000000000002|                                    0.261|\n",
      "|1851-07-01|    14.530999999999999|                            0.606|17.102999999999998|                        3.751|              7.425|                         1.48|                        16.831|                                    0.244|\n",
      "|1851-08-01|                13.751|                            0.775|17.360999999999994|                        1.392|  6.594999999999999|                        1.281|            16.621000000000002|                                    0.276|\n",
      "+----------+----------------------+---------------------------------+------------------+-----------------------------+-------------------+-----------------------------+------------------------------+-----------------------------------------+\n",
      "only showing top 20 rows\n",
      "\n"
     ]
    }
   ],
   "source": [
    "dft.na.drop(subset=\"LandAndOceanAverageTemperature\").show()"
   ]
  },
  {
   "cell_type": "code",
   "execution_count": 13,
   "id": "16a860ce",
   "metadata": {},
   "outputs": [
    {
     "name": "stdout",
     "output_type": "stream",
     "text": [
      "+-------+----------+----------------------+---------------------------------+------------------+-----------------------------+------------------+-----------------------------+------------------------------+-----------------------------------------+\n",
      "|summary|        dt|LandAverageTemperature|LandAverageTemperatureUncertainty|LandMaxTemperature|LandMaxTemperatureUncertainty|LandMinTemperature|LandMinTemperatureUncertainty|LandAndOceanAverageTemperature|LandAndOceanAverageTemperatureUncertainty|\n",
      "+-------+----------+----------------------+---------------------------------+------------------+-----------------------------+------------------+-----------------------------+------------------------------+-----------------------------------------+\n",
      "|  count|      1992|                  1992|                             1992|              1992|                         1992|              1992|                         1992|                          1992|                                     1992|\n",
      "|   mean|      null|     8.571582831325301|              0.27666265060240997|14.350600903614467|          0.47978162650602346|2.7435953815261076|            0.431848895582329|            15.212565763052215|                      0.12853212851405638|\n",
      "| stddev|      null|     4.263192675945046|              0.22402952747778798| 4.309578965948537|           0.5832029574744946| 4.155835320049621|           0.4458378370608339|            1.2740929544373867|                      0.07358679600543891|\n",
      "|    min|1850-01-01|    0.4040000000000004|                            0.034|               5.9|                        0.044|            -5.407|                        0.045|                        12.475|                                    0.042|\n",
      "|    max|2015-12-01|    15.482000000000001|                            1.492|             21.32|                        4.373|             9.715|                        3.498|                        17.611|                                    0.457|\n",
      "+-------+----------+----------------------+---------------------------------+------------------+-----------------------------+------------------+-----------------------------+------------------------------+-----------------------------------------+\n",
      "\n"
     ]
    }
   ],
   "source": [
    "dft.na.drop(subset=\"LandAndOceanAverageTemperature\").describe().show()"
   ]
  },
  {
   "cell_type": "code",
   "execution_count": 6,
   "id": "1410a25e",
   "metadata": {},
   "outputs": [
    {
     "data": {
      "text/plain": [
       "17.611"
      ]
     },
     "execution_count": 6,
     "metadata": {},
     "output_type": "execute_result"
    }
   ],
   "source": [
    "dft.groupby().max('LandAndOceanAverageTemperature').first().asDict()['max(LandAndOceanAverageTemperature)']"
   ]
  },
  {
   "cell_type": "code",
   "execution_count": 8,
   "id": "1c2245be",
   "metadata": {},
   "outputs": [
    {
     "data": {
      "text/plain": [
       "12.475"
      ]
     },
     "execution_count": 8,
     "metadata": {},
     "output_type": "execute_result"
    }
   ],
   "source": [
    "dft.groupby().min('LandAndOceanAverageTemperature').first().asDict()['min(LandAndOceanAverageTemperature)']"
   ]
  },
  {
   "cell_type": "code",
   "execution_count": 10,
   "id": "89215948",
   "metadata": {},
   "outputs": [
    {
     "name": "stderr",
     "output_type": "stream",
     "text": [
      "23/10/08 04:06:48 WARN CSVHeaderChecker: CSV header does not conform to the schema.\n",
      " Header: , Country, Energy_type, Year, Energy_consumption, Energy_production, GDP, Population, Energy_intensity_per_capita, Energy_intensity_by_GDP, CO2_emission\n",
      " Schema: _c0, Country, Energy_type, Year, Energy_consumption, Energy_production, GDP, Population, Energy_intensity_per_capita, Energy_intensity_by_GDP, CO2_emission\n",
      "Expected: _c0 but found: \n",
      "CSV file: file:///home/ubuntu/BDAS/energy_orginal.csv\n",
      "[Stage 18:>                                                         (0 + 1) / 1]\r"
     ]
    },
    {
     "name": "stdout",
     "output_type": "stream",
     "text": [
      "+-------+------------------+-----------+------------------+------------------+------------------+-----------------+-----------------+-----------------+---------------------------+-----------------------+-----------------+\n",
      "|summary|               _c0|    Country|       Energy_type|              Year|Energy_consumption|Energy_production|              GDP|       Population|Energy_intensity_per_capita|Energy_intensity_by_GDP|     CO2_emission|\n",
      "+-------+------------------+-----------+------------------+------------------+------------------+-----------------+-----------------+-----------------+---------------------------+-----------------------+-----------------+\n",
      "|  count|             51614|      51614|             51614|             51614|             43023|            43023|            39669|            45134|                      49124|                  49124|            51614|\n",
      "|   mean|28611.055450071686|       null|              null|  2000.14457317782|1.5700675327057585|1.564249714903889|832.0143856153793| 63472.7946053322|          72.58102995316557|      3.723884430877848|78.80008185216111|\n",
      "| stddev|15695.522429538376|       null|              null|11.318606272162155|15.675510268082842|15.51796740800507|6008.109216078112|460444.7456672419|         114.04875318698952|      4.332069542882347| 902.221462888287|\n",
      "|    min|                 0|Afghanistan|  all_energy_types|              1980|      -0.000121294|        -1.00E-39|         0.124958|          100.028|                          0|                      0|     -0.000138354|\n",
      "|    max|              9999|   Zimbabwe|renewables_n_other|              2019|       99.79480965|      99.69778782|          996.274|         9996.447|                99.94587397|            9.995589759|              995|\n",
      "+-------+------------------+-----------+------------------+------------------+------------------+-----------------+-----------------+-----------------+---------------------------+-----------------------+-----------------+\n",
      "\n"
     ]
    },
    {
     "name": "stderr",
     "output_type": "stream",
     "text": [
      "\r",
      "                                                                                \r"
     ]
    }
   ],
   "source": [
    "dfe.na.drop(subset=\"CO2_emission\").describe().show()"
   ]
  },
  {
   "cell_type": "code",
   "execution_count": 15,
   "id": "37906427",
   "metadata": {},
   "outputs": [
    {
     "data": {
      "text/plain": [
       "995.0"
      ]
     },
     "execution_count": 15,
     "metadata": {},
     "output_type": "execute_result"
    }
   ],
   "source": [
    "float(dfe.describe(\"CO2_emission\").filter(\"summary = 'max'\").select(\"CO2_emission\").first().asDict()['CO2_emission'])"
   ]
  },
  {
   "cell_type": "code",
   "execution_count": 16,
   "id": "adbf1b6a",
   "metadata": {},
   "outputs": [
    {
     "data": {
      "text/plain": [
       "-0.000138354"
      ]
     },
     "execution_count": 16,
     "metadata": {},
     "output_type": "execute_result"
    }
   ],
   "source": [
    "float(dfe.describe(\"CO2_emission\").filter(\"summary = 'min'\").select(\"CO2_emission\").first().asDict()['CO2_emission'])"
   ]
  },
  {
   "cell_type": "code",
   "execution_count": 4,
   "id": "3fc60e05",
   "metadata": {},
   "outputs": [
    {
     "name": "stdout",
     "output_type": "stream",
     "text": [
      "total Records after filtering null value:1992\n",
      "total Records after filtering null value and grouping:167\n"
     ]
    }
   ],
   "source": [
    "# 03-DP\n",
    "newTemperatureData = [['dt', 'landAverageTemperature', 'LandMaxTemperature',\n",
    "                       'LandMinTemperature', 'landAndOceanAverageTemperature']]\n",
    "newTemperatureDataDic = dict()\n",
    "local_list = dft.collect()\n",
    "temCount=0\n",
    "for row in local_list:\n",
    "    if pd.isnull(row['LandAndOceanAverageTemperature']) == 0:\n",
    "        temCount=temCount+1\n",
    "        if (row['dt'].find('/') != -1):\n",
    "            dt_time = datetime.strptime(row['dt'], '%d/%m/%Y')\n",
    "        else:\n",
    "            dt_time = datetime.strptime(row['dt'], '%Y-%m-%d')\n",
    "        time_str = dt_time.strftime('%Y')\n",
    "        if time_str not in newTemperatureDataDic:\n",
    "            newTemperatureDataDic[time_str] = [1, row['LandAverageTemperature'],\n",
    "                                               row['LandMaxTemperature'], row['LandMinTemperature'], row['LandAndOceanAverageTemperature']]\n",
    "        else:\n",
    "            newTemperatureDataDic[time_str] = [newTemperatureDataDic[time_str][0]+1,\n",
    "                                               float(newTemperatureDataDic[time_str][1]) +\n",
    "                                               row['LandAverageTemperature'],\n",
    "                                               newTemperatureDataDic[time_str][2] +\n",
    "                                               row['LandMaxTemperature'],\n",
    "                                               newTemperatureDataDic[time_str][3] +\n",
    "                                               row['LandMinTemperature'],\n",
    "                                               newTemperatureDataDic[time_str][4]+row['LandAndOceanAverageTemperature']]\n",
    "print('total Records after filtering null value:'+str(temCount))\n",
    "for key in newTemperatureDataDic.keys():\n",
    "    newTemperatureData.append([key, float(newTemperatureDataDic[key][1])/newTemperatureDataDic[key][0],\n",
    "                               float(newTemperatureDataDic[key][2]) /\n",
    "                               float(newTemperatureDataDic[key][0]),\n",
    "                               float(newTemperatureDataDic[key][3]) /\n",
    "                               float(newTemperatureDataDic[key][0]),\n",
    "                               float(newTemperatureDataDic[key][4])/float(newTemperatureDataDic[key][0])])\n",
    "print('total Records after filtering null value and grouping:'+str(len(newTemperatureData)))\n",
    "# save into new CSV\n",
    "with open('newTemperatureData.csv', mode='w', newline='') as file:\n",
    "    writer = csv.writer(file)\n",
    "    for row in newTemperatureData:\n",
    "        writer.writerow(row)\n"
   ]
  },
  {
   "cell_type": "code",
   "execution_count": 5,
   "id": "f4ac1a4b",
   "metadata": {},
   "outputs": [
    {
     "name": "stdout",
     "output_type": "stream",
     "text": [
      "total Records after filtering null value:41\n"
     ]
    }
   ],
   "source": [
    "dfe = pd.read_csv(fileEnergy)\n",
    "newGasEmissionData = [['Year', 'Country', 'CO2_emission',\n",
    "                       'Energy_consumption', 'Energy_production', 'GDP', 'Population']]\n",
    "for index, row in dfe.iterrows():\n",
    "    if row['Country'] == 'World' and row['Energy_type'] == 'all_energy_types':\n",
    "        newGasEmissionData.append([row['Year'], row['Country'], row['CO2_emission'],\n",
    "                                   row['Energy_consumption'], row['Energy_production'], row['GDP'], row['Population']])\n",
    "print('total Records after filtering null value:'+str(len(newGasEmissionData)))\n",
    "with open('newGasEmissionData.csv', mode='w', newline='') as file:\n",
    "    writer = csv.writer(file)\n",
    "    for row in newGasEmissionData:\n",
    "        writer.writerow(row)"
   ]
  },
  {
   "cell_type": "code",
   "execution_count": 8,
   "id": "5c32f676",
   "metadata": {},
   "outputs": [
    {
     "name": "stdout",
     "output_type": "stream",
     "text": [
      "       Unnamed: 0   Country                Energy_type  Year  \\\n",
      "0               0     World           all_energy_types  1980   \n",
      "1               1     World                       coal  1980   \n",
      "2               2     World                natural_gas  1980   \n",
      "3               3     World  petroleum_n_other_liquids  1980   \n",
      "4               4     World                    nuclear  1980   \n",
      "...           ...       ...                        ...   ...   \n",
      "55435       55435  Zimbabwe                       coal  2019   \n",
      "55436       55436  Zimbabwe                natural_gas  2019   \n",
      "55437       55437  Zimbabwe  petroleum_n_other_liquids  2019   \n",
      "55438       55438  Zimbabwe                    nuclear  2019   \n",
      "55439       55439  Zimbabwe         renewables_n_other  2019   \n",
      "\n",
      "       Energy_consumption  Energy_production          GDP   Population  \\\n",
      "0              292.899790         296.337228  27770.91028  4298126.522   \n",
      "1               78.656134          80.114194  27770.91028  4298126.522   \n",
      "2               53.865223          54.761046  27770.91028  4298126.522   \n",
      "3              132.064019         133.111109  27770.91028  4298126.522   \n",
      "4                7.575700           7.575700  27770.91028  4298126.522   \n",
      "...                   ...                ...          ...          ...   \n",
      "55435            0.045064           0.075963     37.62040    14654.200   \n",
      "55436            0.000000           0.000000     37.62040    14654.200   \n",
      "55437            0.055498           0.000000     37.62040    14654.200   \n",
      "55438                 NaN                NaN     37.62040    14654.200   \n",
      "55439            0.068089           0.067499     37.62040    14654.200   \n",
      "\n",
      "       Energy_intensity_per_capita  Energy_intensity_by_GDP  CO2_emission  \n",
      "0                        68.145921                10.547000   4946.627130  \n",
      "1                        68.145921                10.547000   1409.790188  \n",
      "2                        68.145921                10.547000   1081.593377  \n",
      "3                        68.145921                10.547000   2455.243565  \n",
      "4                        68.145921                10.547000      0.000000  \n",
      "...                            ...                      ...           ...  \n",
      "55435                    11.508701                 4.482962      4.586869  \n",
      "55436                    11.508701                 4.482962      0.000000  \n",
      "55437                    11.508701                 4.482962      4.377890  \n",
      "55438                    11.508701                 4.482962      0.000000  \n",
      "55439                    11.508701                 4.482962      0.000000  \n",
      "\n",
      "[55440 rows x 11 columns]\n"
     ]
    }
   ],
   "source": [
    "print(dfe)"
   ]
  },
  {
   "cell_type": "code",
   "execution_count": 9,
   "id": "fbaca831",
   "metadata": {},
   "outputs": [
    {
     "name": "stdout",
     "output_type": "stream",
     "text": [
      "+----------+----------------------+---------------------------------+------------------+-----------------------------+------------------+-----------------------------+------------------------------+-----------------------------------------+\n",
      "|        dt|LandAverageTemperature|LandAverageTemperatureUncertainty|LandMaxTemperature|LandMaxTemperatureUncertainty|LandMinTemperature|LandMinTemperatureUncertainty|LandAndOceanAverageTemperature|LandAndOceanAverageTemperatureUncertainty|\n",
      "+----------+----------------------+---------------------------------+------------------+-----------------------------+------------------+-----------------------------+------------------------------+-----------------------------------------+\n",
      "|1750-01-01|    3.0340000000000003|                            3.574|              null|                         null|              null|                         null|                          null|                                     null|\n",
      "|1750-02-01|                 3.083|                            3.702|              null|                         null|              null|                         null|                          null|                                     null|\n",
      "|1750-03-01|                 5.626|                            3.076|              null|                         null|              null|                         null|                          null|                                     null|\n",
      "|1750-04-01|                  8.49|                            2.451|              null|                         null|              null|                         null|                          null|                                     null|\n",
      "|1750-05-01|                11.573|                            2.072|              null|                         null|              null|                         null|                          null|                                     null|\n",
      "|1750-06-01|    12.937000000000001|                            1.724|              null|                         null|              null|                         null|                          null|                                     null|\n",
      "|1750-07-01|                15.868|                            1.911|              null|                         null|              null|                         null|                          null|                                     null|\n",
      "|1750-08-01|                 14.75|                            2.231|              null|                         null|              null|                         null|                          null|                                     null|\n",
      "|1750-09-01|    11.412999999999998|                            2.637|              null|                         null|              null|                         null|                          null|                                     null|\n",
      "|1750-10-01|     6.366999999999999|                            2.668|              null|                         null|              null|                         null|                          null|                                     null|\n",
      "|1750-11-01|                  null|                             null|              null|                         null|              null|                         null|                          null|                                     null|\n",
      "|1750-12-01|                 2.772|                             2.97|              null|                         null|              null|                         null|                          null|                                     null|\n",
      "|1751-01-01|                 2.495|                            3.469|              null|                         null|              null|                         null|                          null|                                     null|\n",
      "|1751-02-01|                 0.963|                            3.827|              null|                         null|              null|                         null|                          null|                                     null|\n",
      "|1751-03-01|                   5.8|                            3.051|              null|                         null|              null|                         null|                          null|                                     null|\n",
      "|1751-04-01|                  7.67|               2.3680000000000003|              null|                         null|              null|                         null|                          null|                                     null|\n",
      "|1751-05-01|                  null|                             null|              null|                         null|              null|                         null|                          null|                                     null|\n",
      "|1751-06-01|                13.827|                            1.801|              null|                         null|              null|                         null|                          null|                                     null|\n",
      "|1751-07-01|                  null|                             null|              null|                         null|              null|                         null|                          null|                                     null|\n",
      "|1751-08-01|                14.405|                            2.296|              null|                         null|              null|                         null|                          null|                                     null|\n",
      "+----------+----------------------+---------------------------------+------------------+-----------------------------+------------------+-----------------------------+------------------------------+-----------------------------------------+\n",
      "only showing top 20 rows\n",
      "\n"
     ]
    }
   ],
   "source": [
    "dft.show()"
   ]
  },
  {
   "cell_type": "code",
   "execution_count": 6,
   "id": "fd5ba332",
   "metadata": {},
   "outputs": [
    {
     "name": "stdout",
     "output_type": "stream",
     "text": [
      "+----+----------------------+------------------+------------------+------------------------------+\n",
      "|  dt|landAverageTemperature|LandMaxTemperature|LandMinTemperature|landAndOceanAverageTemperature|\n",
      "+----+----------------------+------------------+------------------+------------------------------+\n",
      "|1850|     7.900666666666666|13.476666666666667| 1.964333333333333|            14.867166666666668|\n",
      "|1851|     8.178583333333332|13.080999999999998|2.2039166666666667|            14.991833333333332|\n",
      "|1852|     8.100166666666667|13.397333333333336|             2.337|            15.006500000000003|\n",
      "|1853|     8.041833333333333|13.886583333333334|            1.8925|            14.955166666666669|\n",
      "|1854|                8.2105|13.977416666666668| 1.762166666666667|            14.990999999999998|\n",
      "|1855|     8.110749999999998|13.493166666666665|1.7028333333333334|            15.021083333333332|\n",
      "|1856|     7.995916666666666|13.470249999999998|1.5250833333333336|            14.879333333333333|\n",
      "|1857|     7.758166666666668|13.437583333333336|1.8568333333333333|            14.758249999999999|\n",
      "|1858|               8.10025|            13.683|2.1107499999999995|                       14.8815|\n",
      "|1859|                 8.252|13.860333333333335|2.4601666666666664|            14.929916666666669|\n",
      "|1860|     7.960833333333333|          13.96025|2.3441666666666663|            14.882916666666665|\n",
      "|1861|     7.846500000000002|13.856750000000003|           2.26275|            14.800666666666666|\n",
      "|1862|     7.558583333333334|14.247250000000003|2.4827500000000002|            14.740083333333333|\n",
      "|1863|     8.111833333333333|13.619916666666667|2.7670833333333333|                      14.93575|\n",
      "|1864|     7.983583333333335|13.918916666666668|2.4101666666666666|            14.896499999999998|\n",
      "|1865|     8.177833333333334|14.298083333333336| 2.551833333333333|            14.996666666666668|\n",
      "|1866|     8.292166666666665|14.165916666666666|2.4322500000000007|            15.057000000000002|\n",
      "|1867|     8.436333333333334|14.146749999999999| 2.463666666666667|            15.058666666666667|\n",
      "|1868|     8.247916666666667|14.097916666666668| 2.369666666666667|            15.096916666666667|\n",
      "|1869|     8.432083333333333|           14.0695|2.1650833333333335|            15.065499999999998|\n",
      "+----+----------------------+------------------+------------------+------------------------------+\n",
      "only showing top 20 rows\n",
      "\n"
     ]
    }
   ],
   "source": [
    "dftNew=spark.read.csv('newTemperatureData.csv', inferSchema=True, header=True)\n",
    "dftNew.show()"
   ]
  },
  {
   "cell_type": "code",
   "execution_count": 7,
   "id": "24b5d4bf",
   "metadata": {},
   "outputs": [
    {
     "name": "stdout",
     "output_type": "stream",
     "text": [
      "+----+-------+------------+------------------+-----------------+-----------+-----------+\n",
      "|Year|Country|CO2_emission|Energy_consumption|Energy_production|        GDP| Population|\n",
      "+----+-------+------------+------------------+-----------------+-----------+-----------+\n",
      "|1980|  World|  4946.62713|       292.8997896|      296.3372276|27770.91028|4298126.522|\n",
      "|1981|  World| 18701.97439|       289.4010217|      291.2877732|28665.81914|4377059.559|\n",
      "|1982|  World| 18327.41397|       289.6911022|      290.1205666|28801.76951|4456829.974|\n",
      "|1983|  World| 18284.00234|       293.7316257|      293.0466469|29617.57719|4537793.894|\n",
      "|1984|  World| 18478.51221|       307.2343654|      308.9210137|31097.25251|4572800.782|\n",
      "|1985|  World| 19602.54737|       315.4271481|      316.4642615|32289.04068|4657357.404|\n",
      "|1986|  World| 20027.31284|       322.1848537|      326.7530652|33425.37102|4745135.925|\n",
      "|1987|  World|  20511.3714|       332.7462452|      334.3845058|34792.98724|4835605.846|\n",
      "|1988|  World| 21163.84056|       345.5608764|      347.4128631| 42106.5954|4927545.084|\n",
      "|1989|  World| 21842.54205|       351.3523563|      354.0081244|44075.63522|5056794.374|\n",
      "|1990|  World| 22158.63016|       353.5448737|      357.8395222|49229.89052|5294251.487|\n",
      "|1991|  World| 22144.80291|       353.8937978|      355.1308303|50156.76262|5396473.677|\n",
      "|1992|  World| 21974.86771|        352.851235|      353.9360513|51016.35295| 5481774.19|\n",
      "|1993|  World| 21766.14215|       355.6763484|      354.5943272| 52108.4951|5581568.665|\n",
      "|1994|  World| 21891.92108|       359.5224288|      360.6731435|53646.34345|5663996.163|\n",
      "|1995|  World| 22064.88427|        369.363988|      368.5758305|55384.82668|5745283.941|\n",
      "|1996|  World| 22552.70154|       379.1916275|       377.753171|57529.16141|5826303.733|\n",
      "|1997|  World| 23042.16185|       380.3569397|      382.3033015|59832.32657|5906491.026|\n",
      "|1998|  World|  23112.8506|       382.4889414|      386.7930944|61263.85705|5985040.946|\n",
      "|1999|  World| 23152.16435|       389.6899241|      386.6383613|63358.51552|6063581.745|\n",
      "+----+-------+------------+------------------+-----------------+-----------+-----------+\n",
      "only showing top 20 rows\n",
      "\n"
     ]
    }
   ],
   "source": [
    "dfeNew=spark.read.csv('newGasEmissionData.csv', inferSchema=True, header=True)\n",
    "dfeNew.show()"
   ]
  },
  {
   "cell_type": "code",
   "execution_count": 8,
   "id": "c3cfb1f9",
   "metadata": {},
   "outputs": [
    {
     "name": "stdout",
     "output_type": "stream",
     "text": [
      "[['Year', 'CO2_emission', 'LandAverageTemperature', 'LandAndOceanAverageTemperature', 'LandMaxTemperature', 'LandMinTemperature', 'Energy_consumption', 'Energy_production', 'GDP', 'Population'], [1850, '', 7.901, 14.867, 13.477, 1.964, '', '', '', ''], [1851, '', 8.179, 14.992, 13.081, 2.204, '', '', '', ''], [1852, '', 8.1, 15.007, 13.397, 2.337, '', '', '', ''], [1853, '', 8.042, 14.955, 13.887, 1.893, '', '', '', ''], [1854, '', 8.21, 14.991, 13.977, 1.762, '', '', '', ''], [1855, '', 8.111, 15.021, 13.493, 1.703, '', '', '', ''], [1856, '', 7.996, 14.879, 13.47, 1.525, '', '', '', ''], [1857, '', 7.758, 14.758, 13.438, 1.857, '', '', '', ''], [1858, '', 8.1, 14.882, 13.683, 2.111, '', '', '', ''], [1859, '', 8.252, 14.93, 13.86, 2.46, '', '', '', ''], [1860, '', 7.961, 14.883, 13.96, 2.344, '', '', '', ''], [1861, '', 7.847, 14.801, 13.857, 2.263, '', '', '', ''], [1862, '', 7.559, 14.74, 14.247, 2.483, '', '', '', ''], [1863, '', 8.112, 14.936, 13.62, 2.767, '', '', '', ''], [1864, '', 7.984, 14.896, 13.919, 2.41, '', '', '', ''], [1865, '', 8.178, 14.997, 14.298, 2.552, '', '', '', ''], [1866, '', 8.292, 15.057, 14.166, 2.432, '', '', '', ''], [1867, '', 8.436, 15.059, 14.147, 2.464, '', '', '', ''], [1868, '', 8.248, 15.097, 14.098, 2.37, '', '', '', ''], [1869, '', 8.432, 15.065, 14.069, 2.165, '', '', '', ''], [1870, '', 8.201, 15.004, 14.21, 2.425, '', '', '', ''], [1871, '', 8.115, 15.006, 13.984, 2.158, '', '', '', ''], [1872, '', 8.194, 15.019, 14.285, 2.187, '', '', '', ''], [1873, '', 8.351, 15.049, 14.01, 1.904, '', '', '', ''], [1874, '', 8.434, 14.957, 13.883, 2.062, '', '', '', ''], [1875, '', 7.86, 14.922, 14.008, 1.614, '', '', '', ''], [1876, '', 8.08, 14.909, 13.935, 2.135, '', '', '', ''], [1877, '', 8.54, 15.283, 14.43, 2.649, '', '', '', ''], [1878, '', 8.83, 15.357, 14.742, 2.982, '', '', '', ''], [1879, '', 8.166, 15.064, 14.066, 2.079, '', '', '', ''], [1880, '', 8.119, 15.009, 13.913, 2.054, '', '', '', ''], [1881, '', 8.271, 15.087, 14.05, 2.426, '', '', '', ''], [1882, '', 8.129, 15.057, 14.114, 2.273, '', '', '', ''], [1883, '', 7.977, 14.963, 13.962, 1.88, '', '', '', ''], [1884, '', 7.774, 14.833, 13.692, 1.648, '', '', '', ''], [1885, '', 7.92, 14.854, 13.912, 1.874, '', '', '', ''], [1886, '', 7.954, 14.835, 13.947, 1.971, '', '', '', ''], [1887, '', 7.915, 14.816, 13.89, 1.907, '', '', '', ''], [1888, '', 8.091, 14.994, 13.909, 1.954, '', '', '', ''], [1889, '', 8.319, 15.113, 14.294, 2.348, '', '', '', ''], [1890, '', 7.972, 14.841, 13.929, 1.851, '', '', '', ''], [1891, '', 8.019, 14.944, 14.033, 1.905, '', '', '', ''], [1892, '', 8.066, 14.883, 13.971, 1.982, '', '', '', ''], [1893, '', 8.057, 14.912, 13.937, 1.907, '', '', '', ''], [1894, '', 8.161, 14.915, 14.041, 2.124, '', '', '', ''], [1895, '', 8.147, 14.969, 14.078, 2.076, '', '', '', ''], [1896, '', 8.215, 15.091, 14.108, 2.115, '', '', '', ''], [1897, '', 8.293, 15.075, 14.187, 2.294, '', '', '', ''], [1898, '', 8.178, 14.887, 14.232, 2.153, '', '', '', ''], [1899, '', 8.396, 15.048, 14.332, 2.43, '', '', '', ''], [1900, '', 8.502, 15.144, 14.39, 2.576, '', '', '', ''], [1901, '', 8.542, 15.073, 14.512, 2.49, '', '', '', ''], [1902, '', 8.304, 14.958, 14.364, 2.204, '', '', '', ''], [1903, '', 8.22, 14.837, 14.086, 2.283, '', '', '', ''], [1904, '', 8.091, 14.81, 14.064, 2.171, '', '', '', ''], [1905, '', 8.225, 14.955, 14.082, 2.343, '', '', '', ''], [1906, '', 8.379, 15.032, 14.244, 2.486, '', '', '', ''], [1907, '', 7.947, 14.875, 13.808, 2.003, '', '', '', ''], [1908, '', 8.186, 14.838, 14.039, 2.175, '', '', '', ''], [1909, '', 8.178, 14.79, 14.027, 2.158, '', '', '', ''], [1910, '', 8.223, 14.819, 14.097, 2.158, '', '', '', ''], [1911, '', 8.177, 14.776, 13.988, 2.25, '', '', '', ''], [1912, '', 8.165, 14.877, 14.053, 2.201, '', '', '', ''], [1913, '', 8.298, 14.909, 14.202, 2.319, '', '', '', ''], [1914, '', 8.591, 15.076, 14.315, 2.687, '', '', '', ''], [1915, '', 8.593, 15.144, 14.474, 2.644, '', '', '', ''], [1916, '', 8.225, 14.901, 14.097, 2.262, '', '', '', ''], [1917, '', 8.023, 14.81, 13.926, 2.02, '', '', '', ''], [1918, '', 8.131, 14.96, 13.961, 2.186, '', '', '', ''], [1919, '', 8.382, 15.007, 14.156, 2.451, '', '', '', ''], [1920, '', 8.359, 15.026, 14.143, 2.446, '', '', '', ''], [1921, '', 8.571, 15.102, 14.424, 2.677, '', '', '', ''], [1922, '', 8.408, 15.012, 14.205, 2.433, '', '', '', ''], [1923, '', 8.422, 15.028, 14.182, 2.456, '', '', '', ''], [1924, '', 8.507, 15.039, 14.224, 2.506, '', '', '', ''], [1925, '', 8.534, 15.09, 14.344, 2.542, '', '', '', ''], [1926, '', 8.729, 15.241, 14.452, 2.769, '', '', '', ''], [1927, '', 8.522, 15.122, 14.298, 2.535, '', '', '', ''], [1928, '', 8.632, 15.132, 14.362, 2.668, '', '', '', ''], [1929, '', 8.242, 14.967, 13.956, 2.301, '', '', '', ''], [1930, '', 8.634, 15.172, 14.326, 2.74, '', '', '', ''], [1931, '', 8.719, 15.228, 14.42, 2.819, '', '', '', ''], [1932, '', 8.705, 15.188, 14.432, 2.763, '', '', '', ''], [1933, '', 8.338, 15.013, 14.078, 2.424, '', '', '', ''], [1934, '', 8.628, 15.145, 14.384, 2.767, '', '', '', ''], [1935, '', 8.516, 15.119, 14.287, 2.588, '', '', '', ''], [1936, '', 8.554, 15.166, 14.315, 2.639, '', '', '', ''], [1937, '', 8.698, 15.3, 14.476, 2.75, '', '', '', ''], [1938, '', 8.864, 15.293, 14.65, 3.033, '', '', '', ''], [1939, '', 8.76, 15.302, 14.595, 2.881, '', '', '', ''], [1940, '', 8.765, 15.372, 14.579, 2.89, '', '', '', ''], [1941, '', 8.769, 15.385, 14.536, 2.915, '', '', '', ''], [1942, '', 8.728, 15.325, 14.534, 2.92, '', '', '', ''], [1943, '', 8.755, 15.345, 14.603, 2.937, '', '', '', ''], [1944, '', 8.845, 15.449, 14.727, 3.06, '', '', '', ''], [1945, '', 8.585, 15.331, 14.439, 2.772, '', '', '', ''], [1946, '', 8.677, 15.263, 14.482, 2.831, '', '', '', ''], [1947, '', 8.797, 15.31, 14.562, 2.965, '', '', '', ''], [1948, '', 8.747, 15.261, 14.616, 2.915, '', '', '', ''], [1949, '', 8.587, 15.223, 14.415, 2.802, '', '', '', ''], [1950, '', 8.365, 15.139, 14.174, 2.579, '', '', '', ''], [1951, '', 8.626, 15.311, 14.43, 2.736, '', '', '', ''], [1952, '', 8.638, 15.363, 14.463, 2.82, '', '', '', ''], [1953, '', 8.874, 15.421, 14.639, 3.108, '', '', '', ''], [1954, '', 8.561, 15.231, 14.287, 2.866, '', '', '', ''], [1955, '', 8.626, 15.174, 14.329, 2.861, '', '', '', ''], [1956, '', 8.28, 15.106, 14.024, 2.562, '', '', '', ''], [1957, '', 8.732, 15.374, 14.382, 3.001, '', '', '', ''], [1958, '', 8.774, 15.382, 14.477, 3.115, '', '', '', ''], [1959, '', 8.733, 15.34, 14.416, 3.109, '', '', '', ''], [1960, '', 8.584, 15.292, 14.317, 2.933, '', '', '', ''], [1961, '', 8.798, 15.38, 14.515, 3.129, '', '', '', ''], [1962, '', 8.746, 15.326, 14.54, 3.009, '', '', '', ''], [1963, '', 8.856, 15.377, 14.612, 3.158, '', '', '', ''], [1964, '', 8.41, 15.117, 14.157, 2.769, '', '', '', ''], [1965, '', 8.527, 15.196, 14.268, 2.841, '', '', '', ''], [1966, '', 8.599, 15.265, 14.326, 2.899, '', '', '', ''], [1967, '', 8.7, 15.294, 14.407, 3.037, '', '', '', ''], [1968, '', 8.516, 15.264, 14.164, 2.857, '', '', '', ''], [1969, '', 8.595, 15.39, 14.212, 2.963, '', '', '', ''], [1970, '', 8.701, 15.333, 14.403, 3.043, '', '', '', ''], [1971, '', 8.599, 15.2, 14.353, 2.962, '', '', '', ''], [1972, '', 8.5, 15.293, 14.165, 2.845, '', '', '', ''], [1973, '', 8.948, 15.405, 14.566, 3.37, '', '', '', ''], [1974, '', 8.467, 15.168, 14.082, 2.901, '', '', '', ''], [1975, '', 8.745, 15.239, 14.384, 3.121, '', '', '', ''], [1976, '', 8.347, 15.131, 14.008, 2.734, '', '', '', ''], [1977, '', 8.85, 15.408, 14.486, 3.295, '', '', '', ''], [1978, '', 8.693, 15.301, 14.281, 3.171, '', '', '', ''], [1979, '', 8.733, 15.414, 14.458, 3.2, '', '', '', ''], [1980, 4946.627, 8.98, 15.492, 14.673, 3.405, 292.9, 296.337, 27770.91, 4298126.522], [1981, 18701.974, 9.166, 15.516, 14.855, 3.636, 289.401, 291.288, 28665.819, 4377059.559], [1982, 18327.414, 8.639, 15.342, 14.301, 3.24, 289.691, 290.121, 28801.77, 4456829.974], [1983, 18284.002, 9.028, 15.52, 14.68, 3.552, 293.732, 293.047, 29617.577, 4537793.894], [1984, 18478.512, 8.692, 15.344, 14.343, 3.187, 307.234, 308.921, 31097.253, 4572800.782], [1985, 19602.547, 8.658, 15.341, 14.267, 3.176, 315.427, 316.464, 32289.041, 4657357.404], [1986, 20027.313, 8.834, 15.384, 14.517, 3.319, 322.185, 326.753, 33425.371, 4745135.925], [1987, 20511.371, 8.994, 15.525, 14.7, 3.431, 332.746, 334.385, 34792.987, 4835605.846], [1988, 21163.841, 9.202, 15.556, 14.89, 3.654, 345.561, 347.413, 42106.595, 4927545.084], [1989, 21842.542, 8.922, 15.442, 14.621, 3.334, 351.352, 354.008, 44075.635, 5056794.374], [1990, 22158.63, 9.234, 15.629, 14.958, 3.659, 353.545, 357.84, 49229.891, 5294251.487], [1991, 22144.803, 9.179, 15.598, 14.84, 3.622, 353.894, 355.131, 50156.763, 5396473.677], [1992, 21974.868, 8.837, 15.453, 14.471, 3.264, 352.851, 353.936, 51016.353, 5481774.19], [1993, 21766.142, 8.867, 15.466, 14.52, 3.285, 355.676, 354.594, 52108.495, 5581568.665], [1994, 21891.921, 9.039, 15.535, 14.729, 3.396, 359.522, 360.673, 53646.343, 5663996.163], [1995, 22064.884, 9.347, 15.638, 15.026, 3.704, 369.364, 368.576, 55384.827, 5745283.941], [1996, 22552.702, 9.039, 15.525, 14.737, 3.381, 379.192, 377.753, 57529.161, 5826303.733], [1997, 23042.162, 9.203, 15.714, 14.868, 3.59, 380.357, 382.303, 59832.327, 5906491.026], [1998, 23112.851, 9.523, 15.826, 15.169, 3.949, 382.489, 386.793, 61263.857, 5985040.946], [1999, 23152.164, 9.285, 15.6, 14.983, 3.662, 389.69, 386.638, 63358.516, 6063581.745], [2000, 23494.916, 9.201, 15.611, 14.899, 3.582, 402.379, 399.855, 66398.356, 6141880.599], [2001, 24258.081, 9.415, 15.767, 15.159, 3.741, 405.22, 405.547, 67935.206, 6220160.568], [2002, 24463.109, 9.57, 15.829, 15.312, 3.865, 413.971, 407.358, 69813.838, 6298597.47], [2003, 25016.047, 9.526, 15.827, 15.249, 3.852, 428.502, 423.131, 72365.06, 6377289.066], [2004, 26169.806, 9.325, 15.757, 15.018, 3.664, 450.689, 445.446, 76045.708, 6456652.845], [2005, 27602.32, 9.701, 15.879, 15.35, 4.114, 465.293, 461.321, 79576.345, 6536810.245], [2006, 28689.677, 9.532, 15.813, 15.262, 3.865, 480.025, 473.697, 83710.081, 6618223.737], [2007, 29632.54, 9.732, 15.827, 15.533, 4.009, 493.056, 482.361, 88074.602, 6700371.898], [2008, 30083.782, 9.432, 15.721, 15.192, 3.725, 499.786, 495.321, 90624.604, 6783134.44], [2009, 30795.451, 9.505, 15.827, 15.267, 3.797, 495.067, 493.043, 90003.176, 6865794.184], [2010, 30621.827, 9.703, 15.895, 15.449, 4.024, 526.73, 518.732, 94617.526, 6948810.014], [2011, 32519.305, 9.516, 15.77, 15.285, 3.828, 540.495, 534.188, 98369.032, 7041712.689], [2012, 33633.324, 9.507, 15.802, 15.333, 3.756, 551.6, 546.334, 101534.113, 7126262.294], [2013, 34423.415, 9.607, 15.854, 15.374, 3.911, 561.092, 554.178, 104859.449, 7211822.209], [2014, 34839.904, 9.571, 15.913, 15.314, 3.878, 566.13, 563.331, 108404.18, 7297269.981], [2015, 34894.26, 9.831, 16.059, 15.573, 4.149, 567.329, 568.558, 111935.896, 7379227.32]]\n"
     ]
    }
   ],
   "source": [
    "#3.4.  Data Integration\n",
    "#Read the processed two datasets and merge them\n",
    "mergedData=[['Year','CO2_emission','LandAverageTemperature','LandAndOceanAverageTemperature',\n",
    "             'LandMaxTemperature','LandMinTemperature','Energy_consumption','Energy_production','GDP','Population']]\n",
    "newDftList = dftNew.collect()\n",
    "newDfeList = dfeNew.collect()\n",
    "for rowT in newDftList:\n",
    "    aryUnit=[rowT['dt'],'',round(rowT['landAverageTemperature'],3),round(rowT['landAndOceanAverageTemperature'],3),\n",
    "             round(rowT['LandMaxTemperature'],3),round(rowT['LandMinTemperature'],3),'',\n",
    "             '','','']\n",
    "    for rowE in newDfeList:\n",
    "        if rowT['dt'] == rowE['Year']:\n",
    "            aryUnit[1]=round(rowE['CO2_emission'],3)\n",
    "            aryUnit[6]=round(rowE['Energy_consumption'],3)\n",
    "            aryUnit[7]=round(rowE['Energy_production'],3)\n",
    "            aryUnit[8]=round(rowE['GDP'],3)\n",
    "            aryUnit[9]=round(rowE['Population'],3)\n",
    "            \n",
    "            #aryUnit[1]=rowE['CO2_emission']\n",
    "            #aryUnit[6]=rowE['Energy_consumption']\n",
    "            #aryUnit[7]=rowE['Energy_production']\n",
    "            #aryUnit[8]=rowE['GDP']\n",
    "            #aryUnit[9]=rowE['Population']\n",
    "    mergedData.append(aryUnit)\n",
    "print(mergedData)\n",
    "#save mergedData\n",
    "with open('mergedData.csv', mode='w', newline='') as file:\n",
    "    writer = csv.writer(file)\n",
    "    for row in mergedData:\n",
    "        writer.writerow(row)\n",
    "with open('mergedData1980.csv', mode='w', newline='') as file:\n",
    "    writer = csv.writer(file)\n",
    "    for row in mergedData:\n",
    "        if row[1] is not None and row[1] != \"\":\n",
    "            writer.writerow(row)"
   ]
  },
  {
   "cell_type": "code",
   "execution_count": 9,
   "id": "7f2ffc45",
   "metadata": {},
   "outputs": [
    {
     "data": {
      "text/html": [
       "<div>\n",
       "<style scoped>\n",
       "    .dataframe tbody tr th:only-of-type {\n",
       "        vertical-align: middle;\n",
       "    }\n",
       "\n",
       "    .dataframe tbody tr th {\n",
       "        vertical-align: top;\n",
       "    }\n",
       "\n",
       "    .dataframe thead th {\n",
       "        text-align: right;\n",
       "    }\n",
       "</style>\n",
       "<table border=\"1\" class=\"dataframe\">\n",
       "  <thead>\n",
       "    <tr style=\"text-align: right;\">\n",
       "      <th></th>\n",
       "      <th>LandAverageTemperature</th>\n",
       "      <th>LandAverageTemperatureUncertainty</th>\n",
       "      <th>LandMaxTemperature</th>\n",
       "      <th>LandMaxTemperatureUncertainty</th>\n",
       "      <th>LandMinTemperature</th>\n",
       "      <th>LandMinTemperatureUncertainty</th>\n",
       "      <th>LandAndOceanAverageTemperature</th>\n",
       "      <th>LandAndOceanAverageTemperatureUncertainty</th>\n",
       "    </tr>\n",
       "  </thead>\n",
       "  <tbody>\n",
       "    <tr>\n",
       "      <th>count</th>\n",
       "      <td>3180.000000</td>\n",
       "      <td>3180.000000</td>\n",
       "      <td>1992.000000</td>\n",
       "      <td>1992.000000</td>\n",
       "      <td>1992.000000</td>\n",
       "      <td>1992.000000</td>\n",
       "      <td>1992.000000</td>\n",
       "      <td>1992.000000</td>\n",
       "    </tr>\n",
       "    <tr>\n",
       "      <th>mean</th>\n",
       "      <td>8.374731</td>\n",
       "      <td>0.938468</td>\n",
       "      <td>14.350601</td>\n",
       "      <td>0.479782</td>\n",
       "      <td>2.743595</td>\n",
       "      <td>0.431849</td>\n",
       "      <td>15.212566</td>\n",
       "      <td>0.128532</td>\n",
       "    </tr>\n",
       "    <tr>\n",
       "      <th>std</th>\n",
       "      <td>4.381310</td>\n",
       "      <td>1.096440</td>\n",
       "      <td>4.309579</td>\n",
       "      <td>0.583203</td>\n",
       "      <td>4.155835</td>\n",
       "      <td>0.445838</td>\n",
       "      <td>1.274093</td>\n",
       "      <td>0.073587</td>\n",
       "    </tr>\n",
       "    <tr>\n",
       "      <th>min</th>\n",
       "      <td>-2.080000</td>\n",
       "      <td>0.034000</td>\n",
       "      <td>5.900000</td>\n",
       "      <td>0.044000</td>\n",
       "      <td>-5.407000</td>\n",
       "      <td>0.045000</td>\n",
       "      <td>12.475000</td>\n",
       "      <td>0.042000</td>\n",
       "    </tr>\n",
       "    <tr>\n",
       "      <th>25%</th>\n",
       "      <td>4.312000</td>\n",
       "      <td>0.186750</td>\n",
       "      <td>10.212000</td>\n",
       "      <td>0.142000</td>\n",
       "      <td>-1.334500</td>\n",
       "      <td>0.155000</td>\n",
       "      <td>14.047000</td>\n",
       "      <td>0.063000</td>\n",
       "    </tr>\n",
       "    <tr>\n",
       "      <th>50%</th>\n",
       "      <td>8.610500</td>\n",
       "      <td>0.392000</td>\n",
       "      <td>14.760000</td>\n",
       "      <td>0.252000</td>\n",
       "      <td>2.949500</td>\n",
       "      <td>0.279000</td>\n",
       "      <td>15.251000</td>\n",
       "      <td>0.122000</td>\n",
       "    </tr>\n",
       "    <tr>\n",
       "      <th>75%</th>\n",
       "      <td>12.548250</td>\n",
       "      <td>1.419250</td>\n",
       "      <td>18.451500</td>\n",
       "      <td>0.539000</td>\n",
       "      <td>6.778750</td>\n",
       "      <td>0.458250</td>\n",
       "      <td>16.396250</td>\n",
       "      <td>0.151000</td>\n",
       "    </tr>\n",
       "    <tr>\n",
       "      <th>max</th>\n",
       "      <td>19.021000</td>\n",
       "      <td>7.880000</td>\n",
       "      <td>21.320000</td>\n",
       "      <td>4.373000</td>\n",
       "      <td>9.715000</td>\n",
       "      <td>3.498000</td>\n",
       "      <td>17.611000</td>\n",
       "      <td>0.457000</td>\n",
       "    </tr>\n",
       "  </tbody>\n",
       "</table>\n",
       "</div>"
      ],
      "text/plain": [
       "       LandAverageTemperature  LandAverageTemperatureUncertainty  \\\n",
       "count             3180.000000                        3180.000000   \n",
       "mean                 8.374731                           0.938468   \n",
       "std                  4.381310                           1.096440   \n",
       "min                 -2.080000                           0.034000   \n",
       "25%                  4.312000                           0.186750   \n",
       "50%                  8.610500                           0.392000   \n",
       "75%                 12.548250                           1.419250   \n",
       "max                 19.021000                           7.880000   \n",
       "\n",
       "       LandMaxTemperature  LandMaxTemperatureUncertainty  LandMinTemperature  \\\n",
       "count         1992.000000                    1992.000000         1992.000000   \n",
       "mean            14.350601                       0.479782            2.743595   \n",
       "std              4.309579                       0.583203            4.155835   \n",
       "min              5.900000                       0.044000           -5.407000   \n",
       "25%             10.212000                       0.142000           -1.334500   \n",
       "50%             14.760000                       0.252000            2.949500   \n",
       "75%             18.451500                       0.539000            6.778750   \n",
       "max             21.320000                       4.373000            9.715000   \n",
       "\n",
       "       LandMinTemperatureUncertainty  LandAndOceanAverageTemperature  \\\n",
       "count                    1992.000000                     1992.000000   \n",
       "mean                        0.431849                       15.212566   \n",
       "std                         0.445838                        1.274093   \n",
       "min                         0.045000                       12.475000   \n",
       "25%                         0.155000                       14.047000   \n",
       "50%                         0.279000                       15.251000   \n",
       "75%                         0.458250                       16.396250   \n",
       "max                         3.498000                       17.611000   \n",
       "\n",
       "       LandAndOceanAverageTemperatureUncertainty  \n",
       "count                                1992.000000  \n",
       "mean                                    0.128532  \n",
       "std                                     0.073587  \n",
       "min                                     0.042000  \n",
       "25%                                     0.063000  \n",
       "50%                                     0.122000  \n",
       "75%                                     0.151000  \n",
       "max                                     0.457000  "
      ]
     },
     "execution_count": 9,
     "metadata": {},
     "output_type": "execute_result"
    }
   ],
   "source": [
    "IntegrationDataFull=pd.read_csv('mergedData.csv')\n",
    "IntegrationDataFull.describe()\n",
    "IntegrationData=pd.read_csv('mergedData1980.csv')\n",
    "orginalDft=pd.read_csv(fileTemperature)\n",
    "orginalDft.describe()"
   ]
  },
  {
   "cell_type": "code",
   "execution_count": 10,
   "id": "7ebf8544",
   "metadata": {},
   "outputs": [
    {
     "name": "stdout",
     "output_type": "stream",
     "text": [
      "Feature: 0, Score: 0.00824\n",
      "Feature: 1, Score: -0.00000\n",
      "Feature: 2, Score: 0.44288\n",
      "Feature: 3, Score: -0.22987\n",
      "Feature: 4, Score: 0.24734\n"
     ]
    }
   ],
   "source": [
    "# 04-DT\n",
    "from sklearn.datasets import make_regression\n",
    "from sklearn.linear_model import LinearRegression\n",
    "from matplotlib import pyplot\n",
    "Y=IntegrationData['LandAndOceanAverageTemperature']\n",
    "X=IntegrationData.drop(['LandAndOceanAverageTemperature'],axis=1)\n",
    "y=Y.values\n",
    "X_5=X[['Year','CO2_emission','LandAverageTemperature','LandMaxTemperature','LandMinTemperature']]\n",
    "model = LinearRegression()\n",
    "model.fit(X_5, y)\n",
    "\n",
    "importance=model.coef_\n",
    "for i,v in enumerate(importance):\n",
    "    print('Feature: %0d, Score: %.5f' % (i,v))  "
   ]
  },
  {
   "cell_type": "code",
   "execution_count": 26,
   "id": "22a49579",
   "metadata": {},
   "outputs": [
    {
     "data": {
      "text/html": [
       "<div>\n",
       "<style scoped>\n",
       "    .dataframe tbody tr th:only-of-type {\n",
       "        vertical-align: middle;\n",
       "    }\n",
       "\n",
       "    .dataframe tbody tr th {\n",
       "        vertical-align: top;\n",
       "    }\n",
       "\n",
       "    .dataframe thead th {\n",
       "        text-align: right;\n",
       "    }\n",
       "</style>\n",
       "<table border=\"1\" class=\"dataframe\">\n",
       "  <thead>\n",
       "    <tr style=\"text-align: right;\">\n",
       "      <th></th>\n",
       "      <th>Year</th>\n",
       "      <th>CO2_emission</th>\n",
       "      <th>LandAverageTemperature</th>\n",
       "      <th>LandAndOceanAverageTemperature</th>\n",
       "      <th>LandMaxTemperature</th>\n",
       "      <th>LandMinTemperature</th>\n",
       "      <th>Energy_consumption</th>\n",
       "      <th>Energy_production</th>\n",
       "      <th>GDP</th>\n",
       "      <th>Population</th>\n",
       "    </tr>\n",
       "  </thead>\n",
       "  <tbody>\n",
       "    <tr>\n",
       "      <th>count</th>\n",
       "      <td>36.000000</td>\n",
       "      <td>36.000000</td>\n",
       "      <td>36.000000</td>\n",
       "      <td>36.000000</td>\n",
       "      <td>36.000000</td>\n",
       "      <td>36.000000</td>\n",
       "      <td>36.000000</td>\n",
       "      <td>36.000000</td>\n",
       "      <td>36.000000</td>\n",
       "      <td>3.600000e+01</td>\n",
       "    </tr>\n",
       "    <tr>\n",
       "      <th>mean</th>\n",
       "      <td>1997.500000</td>\n",
       "      <td>24357.917611</td>\n",
       "      <td>9.259500</td>\n",
       "      <td>15.655472</td>\n",
       "      <td>14.964361</td>\n",
       "      <td>3.644611</td>\n",
       "      <td>407.338139</td>\n",
       "      <td>405.982639</td>\n",
       "      <td>63623.240639</td>\n",
       "      <td>5.872607e+06</td>\n",
       "    </tr>\n",
       "    <tr>\n",
       "      <th>std</th>\n",
       "      <td>10.535654</td>\n",
       "      <td>6049.018016</td>\n",
       "      <td>0.327147</td>\n",
       "      <td>0.187914</td>\n",
       "      <td>0.362035</td>\n",
       "      <td>0.268275</td>\n",
       "      <td>88.063934</td>\n",
       "      <td>85.366876</td>\n",
       "      <td>25651.548020</td>\n",
       "      <td>9.432812e+05</td>\n",
       "    </tr>\n",
       "    <tr>\n",
       "      <th>min</th>\n",
       "      <td>1980.000000</td>\n",
       "      <td>4946.627000</td>\n",
       "      <td>8.639000</td>\n",
       "      <td>15.341000</td>\n",
       "      <td>14.267000</td>\n",
       "      <td>3.176000</td>\n",
       "      <td>289.401000</td>\n",
       "      <td>290.121000</td>\n",
       "      <td>27770.910000</td>\n",
       "      <td>4.298127e+06</td>\n",
       "    </tr>\n",
       "    <tr>\n",
       "      <th>25%</th>\n",
       "      <td>1988.750000</td>\n",
       "      <td>21615.566750</td>\n",
       "      <td>9.019500</td>\n",
       "      <td>15.519000</td>\n",
       "      <td>14.695000</td>\n",
       "      <td>3.402750</td>\n",
       "      <td>349.904250</td>\n",
       "      <td>352.305250</td>\n",
       "      <td>43583.375000</td>\n",
       "      <td>5.024482e+06</td>\n",
       "    </tr>\n",
       "    <tr>\n",
       "      <th>50%</th>\n",
       "      <td>1997.500000</td>\n",
       "      <td>23077.506500</td>\n",
       "      <td>9.259500</td>\n",
       "      <td>15.633500</td>\n",
       "      <td>14.970500</td>\n",
       "      <td>3.660500</td>\n",
       "      <td>381.423000</td>\n",
       "      <td>384.470500</td>\n",
       "      <td>60548.092000</td>\n",
       "      <td>5.945766e+06</td>\n",
       "    </tr>\n",
       "    <tr>\n",
       "      <th>75%</th>\n",
       "      <td>2006.250000</td>\n",
       "      <td>28925.392750</td>\n",
       "      <td>9.523750</td>\n",
       "      <td>15.826250</td>\n",
       "      <td>15.271500</td>\n",
       "      <td>3.855250</td>\n",
       "      <td>483.282750</td>\n",
       "      <td>475.863000</td>\n",
       "      <td>84801.211250</td>\n",
       "      <td>6.638761e+06</td>\n",
       "    </tr>\n",
       "    <tr>\n",
       "      <th>max</th>\n",
       "      <td>2015.000000</td>\n",
       "      <td>34894.260000</td>\n",
       "      <td>9.831000</td>\n",
       "      <td>16.059000</td>\n",
       "      <td>15.573000</td>\n",
       "      <td>4.149000</td>\n",
       "      <td>567.329000</td>\n",
       "      <td>568.558000</td>\n",
       "      <td>111935.896000</td>\n",
       "      <td>7.379227e+06</td>\n",
       "    </tr>\n",
       "  </tbody>\n",
       "</table>\n",
       "</div>"
      ],
      "text/plain": [
       "              Year  CO2_emission  LandAverageTemperature  \\\n",
       "count    36.000000     36.000000               36.000000   \n",
       "mean   1997.500000  24357.917611                9.259500   \n",
       "std      10.535654   6049.018016                0.327147   \n",
       "min    1980.000000   4946.627000                8.639000   \n",
       "25%    1988.750000  21615.566750                9.019500   \n",
       "50%    1997.500000  23077.506500                9.259500   \n",
       "75%    2006.250000  28925.392750                9.523750   \n",
       "max    2015.000000  34894.260000                9.831000   \n",
       "\n",
       "       LandAndOceanAverageTemperature  LandMaxTemperature  LandMinTemperature  \\\n",
       "count                       36.000000           36.000000           36.000000   \n",
       "mean                        15.655472           14.964361            3.644611   \n",
       "std                          0.187914            0.362035            0.268275   \n",
       "min                         15.341000           14.267000            3.176000   \n",
       "25%                         15.519000           14.695000            3.402750   \n",
       "50%                         15.633500           14.970500            3.660500   \n",
       "75%                         15.826250           15.271500            3.855250   \n",
       "max                         16.059000           15.573000            4.149000   \n",
       "\n",
       "       Energy_consumption  Energy_production            GDP    Population  \n",
       "count           36.000000          36.000000      36.000000  3.600000e+01  \n",
       "mean           407.338139         405.982639   63623.240639  5.872607e+06  \n",
       "std             88.063934          85.366876   25651.548020  9.432812e+05  \n",
       "min            289.401000         290.121000   27770.910000  4.298127e+06  \n",
       "25%            349.904250         352.305250   43583.375000  5.024482e+06  \n",
       "50%            381.423000         384.470500   60548.092000  5.945766e+06  \n",
       "75%            483.282750         475.863000   84801.211250  6.638761e+06  \n",
       "max            567.329000         568.558000  111935.896000  7.379227e+06  "
      ]
     },
     "execution_count": 26,
     "metadata": {},
     "output_type": "execute_result"
    }
   ],
   "source": [
    "IntegrationData.describe()"
   ]
  },
  {
   "cell_type": "code",
   "execution_count": 11,
   "id": "273091ca",
   "metadata": {},
   "outputs": [
    {
     "data": {
      "text/plain": [
       "<AxesSubplot:ylabel='Frequency'>"
      ]
     },
     "execution_count": 11,
     "metadata": {},
     "output_type": "execute_result"
    },
    {
     "data": {
      "image/png": "[encoded data removed]",
      "text/plain": [
       "<Figure size 432x288 with 1 Axes>"
      ]
     },
     "metadata": {
      "needs_background": "light"
     },
     "output_type": "display_data"
    }
   ],
   "source": [
    "pyplot.bar([x for x in range(len(importance))], importance)  \n",
    "IntegrationDataFull.LandAndOceanAverageTemperature.plot(kind='hist',bins=20,color=\"steelblue\",edgecolor=\"black\")\n",
    "IntegrationDataFull.CO2_emission.plot(kind='hist',bins=20,color=\"steelblue\",edgecolor=\"black\")\n",
    "\n"
   ]
  },
  {
   "cell_type": "code",
   "execution_count": 12,
   "id": "47d55981",
   "metadata": {},
   "outputs": [
    {
     "name": "stdout",
     "output_type": "stream",
     "text": [
      "[0.01584723]\n",
      "-15.999375589875598\n",
      "0.7894234377130454\n"
     ]
    },
    {
     "data": {
      "image/png": "[encoded data removed]",
      "text/plain": [
       "<Figure size 432x288 with 1 Axes>"
      ]
     },
     "metadata": {
      "needs_background": "light"
     },
     "output_type": "display_data"
    },
    {
     "name": "stdout",
     "output_type": "stream",
     "text": [
      "                            OLS Regression Results                            \n",
      "==============================================================================\n",
      "Dep. Variable:                      y   R-squared:                       0.972\n",
      "Model:                            OLS   Adj. R-squared:                  0.963\n",
      "Method:                 Least Squares   F-statistic:                     102.1\n",
      "Date:                Sun, 08 Oct 2023   Prob (F-statistic):           5.62e-18\n",
      "Time:                        09:18:44   Log-Likelihood:                 74.277\n",
      "No. Observations:                  36   AIC:                            -128.6\n",
      "Df Residuals:                      26   BIC:                            -112.7\n",
      "Df Model:                           9                                         \n",
      "Covariance Type:            nonrobust                                         \n",
      "==========================================================================================\n",
      "                             coef    std err          t      P>|t|      [0.025      0.975]\n",
      "------------------------------------------------------------------------------------------\n",
      "const                    -23.5477     30.914     -0.762      0.453     -87.093      39.997\n",
      "Year                       0.0190      0.016      1.185      0.247      -0.014       0.052\n",
      "CO2_emission             -4.7e-06    3.3e-06     -1.424      0.166   -1.15e-05    2.08e-06\n",
      "LandAverageTemperature     0.4133      0.531      0.778      0.444      -0.679       1.505\n",
      "LandMaxTemperature        -0.1645      0.302     -0.544      0.591      -0.786       0.457\n",
      "LandMinTemperature         0.2056      0.262      0.783      0.440      -0.334       0.745\n",
      "Energy_consumption        -0.0064      0.002     -2.642      0.014      -0.011      -0.001\n",
      "Energy_production          0.0057      0.002      2.358      0.026       0.001       0.011\n",
      "GDP                     2.877e-06    5.2e-06      0.553      0.585   -7.81e-06    1.36e-05\n",
      "Population             -1.228e-07    1.9e-07     -0.647      0.523   -5.13e-07    2.67e-07\n",
      "==============================================================================\n",
      "Omnibus:                        0.431   Durbin-Watson:                   1.898\n",
      "Prob(Omnibus):                  0.806   Jarque-Bera (JB):                0.381\n",
      "Skew:                          -0.229   Prob(JB):                        0.827\n",
      "Kurtosis:                       2.789   Cond. No.                     3.05e+10\n",
      "==============================================================================\n",
      "\n",
      "Notes:\n",
      "[1] Standard Errors assume that the covariance matrix of the errors is correctly specified.\n",
      "[2] The condition number is large, 3.05e+10. This might indicate that there are\n",
      "strong multicollinearity or other numerical problems.\n"
     ]
    }
   ],
   "source": [
    "# 05-DMM\n",
    "# 06-DMA\n",
    "import numpy as np\n",
    "\n",
    "\n",
    "#Linear Model\n",
    "#Linear between Year and Global Temperature\n",
    "X=IntegrationData.drop(['LandAndOceanAverageTemperature'],axis=1)\n",
    "X_1=X[['Year']]\n",
    "\n",
    "y = IntegrationData['LandAndOceanAverageTemperature'].values\n",
    "regressor = LinearRegression()\n",
    "regressor.fit(X_1, y)\n",
    "\n",
    "print(regressor.coef_)        \n",
    "print(regressor.intercept_)   \n",
    "print(regressor.score(X_1, y))  \n",
    "\n",
    "pyplot.scatter(X_1, y)\n",
    "pyplot.plot(X_1, regressor.predict(X_1), color='red')\n",
    "pyplot.show()"
   ]
  },
  {
   "cell_type": "code",
   "execution_count": 44,
   "id": "86557329",
   "metadata": {},
   "outputs": [
    {
     "name": "stdout",
     "output_type": "stream",
     "text": [
      "                            OLS Regression Results                            \n",
      "==============================================================================\n",
      "Dep. Variable:                      y   R-squared:                       0.972\n",
      "Model:                            OLS   Adj. R-squared:                  0.963\n",
      "Method:                 Least Squares   F-statistic:                     102.1\n",
      "Date:                Sun, 08 Oct 2023   Prob (F-statistic):           5.62e-18\n",
      "Time:                        11:23:44   Log-Likelihood:                 74.277\n",
      "No. Observations:                  36   AIC:                            -128.6\n",
      "Df Residuals:                      26   BIC:                            -112.7\n",
      "Df Model:                           9                                         \n",
      "Covariance Type:            nonrobust                                         \n",
      "==========================================================================================\n",
      "                             coef    std err          t      P>|t|      [0.025      0.975]\n",
      "------------------------------------------------------------------------------------------\n",
      "const                    -23.5477     30.914     -0.762      0.453     -87.093      39.997\n",
      "Year                       0.0190      0.016      1.185      0.247      -0.014       0.052\n",
      "CO2_emission             -4.7e-06    3.3e-06     -1.424      0.166   -1.15e-05    2.08e-06\n",
      "LandAverageTemperature     0.4133      0.531      0.778      0.444      -0.679       1.505\n",
      "LandMaxTemperature        -0.1645      0.302     -0.544      0.591      -0.786       0.457\n",
      "LandMinTemperature         0.2056      0.262      0.783      0.440      -0.334       0.745\n",
      "Energy_consumption        -0.0064      0.002     -2.642      0.014      -0.011      -0.001\n",
      "Energy_production          0.0057      0.002      2.358      0.026       0.001       0.011\n",
      "GDP                     2.877e-06    5.2e-06      0.553      0.585   -7.81e-06    1.36e-05\n",
      "Population             -1.228e-07    1.9e-07     -0.647      0.523   -5.13e-07    2.67e-07\n",
      "==============================================================================\n",
      "Omnibus:                        0.431   Durbin-Watson:                   1.898\n",
      "Prob(Omnibus):                  0.806   Jarque-Bera (JB):                0.381\n",
      "Skew:                          -0.229   Prob(JB):                        0.827\n",
      "Kurtosis:                       2.789   Cond. No.                     3.05e+10\n",
      "==============================================================================\n",
      "\n",
      "Notes:\n",
      "[1] Standard Errors assume that the covariance matrix of the errors is correctly specified.\n",
      "[2] The condition number is large, 3.05e+10. This might indicate that there are\n",
      "strong multicollinearity or other numerical problems.\n",
      "[[1980]\n",
      " [1981]\n",
      " [1982]\n",
      " [1983]\n",
      " [1984]\n",
      " [1985]\n",
      " [1986]\n",
      " [1987]\n",
      " [1988]\n",
      " [1989]\n",
      " [1990]\n",
      " [1991]\n",
      " [1992]\n",
      " [1993]\n",
      " [1994]\n",
      " [1995]\n",
      " [1996]\n",
      " [1997]\n",
      " [1998]\n",
      " [1999]\n",
      " [2000]\n",
      " [2001]\n",
      " [2002]\n",
      " [2003]\n",
      " [2004]\n",
      " [2005]\n",
      " [2006]\n",
      " [2007]\n",
      " [2008]\n",
      " [2009]\n",
      " [2010]\n",
      " [2011]\n",
      " [2012]\n",
      " [2013]\n",
      " [2014]\n",
      " [2015]]\n",
      "[15.492 15.516 15.342 15.52  15.344 15.341 15.384 15.525 15.556 15.442\n",
      " 15.629 15.598 15.453 15.466 15.535 15.638 15.525 15.714 15.826 15.6\n",
      " 15.611 15.767 15.829 15.827 15.757 15.879 15.813 15.827 15.721 15.827\n",
      " 15.895 15.77  15.802 15.854 15.913 16.059]\n"
     ]
    },
    {
     "data": {
      "image/png": "[encoded data removed]",
      "text/plain": [
       "<Figure size 432x288 with 1 Axes>"
      ]
     },
     "metadata": {
      "needs_background": "light"
     },
     "output_type": "display_data"
    },
    {
     "name": "stdout",
     "output_type": "stream",
     "text": [
      "accuracy value： 0.6473539734672644\n",
      "(array([2.66486349, 0.00697259, 0.26457079, 0.03627089, 0.00047294,\n",
      "       0.00008414, 0.0986576 , 0.19655547, 0.02948408, 0.00760158,\n",
      "       0.02269592, 0.00044385, 0.00009137, 0.00235056, 0.00033776,\n",
      "       0.03177823, 0.00134161, 0.04048124, 0.0080344 , 0.0976158 ,\n",
      "       0.03184886, 0.00520974, 0.07342027, 0.02218954, 0.03810538,\n",
      "       0.09567015, 0.00220269, 0.02437563, 0.02648852, 0.00078458,\n",
      "       0.00175558, 0.02959351, 0.00525968, 0.00013515, 0.03175772,\n",
      "       0.04273998]), array([0.0217525 , 1.        , 0.98387205, 0.99999734, 1.        ,\n",
      "       1.        , 0.99972071, 0.99481664, 0.99999902, 1.        ,\n",
      "       0.99999972, 1.        , 1.        , 1.        , 1.        ,\n",
      "       0.99999859, 1.        , 0.99999551, 1.        , 0.99973363,\n",
      "       0.99999858, 1.        , 0.9999267 , 0.99999975, 0.99999663,\n",
      "       0.99975655, 1.        , 0.99999961, 0.99999942, 1.        ,\n",
      "       1.        , 0.999999  , 1.        , 1.        , 0.9999986 ,\n",
      "       0.99999418]))\n"
     ]
    },
    {
     "data": {
      "image/png": "[encoded data removed]",
      "text/plain": [
       "<Figure size 432x288 with 1 Axes>"
      ]
     },
     "metadata": {
      "needs_background": "light"
     },
     "output_type": "display_data"
    },
    {
     "name": "stdout",
     "output_type": "stream",
     "text": [
      "[0.00002414]\n",
      "15.067364212442605\n",
      "0.604065154348592\n"
     ]
    },
    {
     "data": {
      "image/png": "[encoded data removed]",
      "text/plain": [
       "<Figure size 864x576 with 1 Axes>"
      ]
     },
     "metadata": {
      "needs_background": "light"
     },
     "output_type": "display_data"
    }
   ],
   "source": [
    "import statsmodels.api as sm\n",
    "model_sm = sm.OLS(y, sm.add_constant(X)).fit()\n",
    "print(model_sm.summary())\n",
    "\n",
    "#prediction\n",
    "from sklearn.model_selection import train_test_split \n",
    "x = IntegrationData.iloc[:, :1].values  \n",
    "print(x)\n",
    "y = IntegrationData.iloc[:, 3].values \n",
    "print(y) \n",
    "#x_train, x_test, y_train, y_test = train_test_split(x, y, test_size=0.2, random_state=0)\n",
    "#\n",
    "x_train, x_test, y_train, y_test = train_test_split(x, y, test_size=0.9, random_state=0)\n",
    "regressor = LinearRegression()  \n",
    "regressor.fit(x_train.reshape(-1,1), y_train.reshape(-1,1))\n",
    "regressor = LinearRegression()  \n",
    "regressor.fit(x_train.reshape(-1,1), y_train.reshape(-1,1))\n",
    "y_pred = regressor.predict(x_test.reshape(-1,1))\n",
    "\n",
    "pyplot.scatter(x_test,y_test,color='black')\n",
    "pyplot.plot(x_test,regressor.predict(x_test),color='blue',linewidth=3)\n",
    "pyplot.title(\"The Linear Model\")\n",
    "pyplot.show()\n",
    "\n",
    "accuracy = regressor.score(x_test, y_test)\n",
    "print(\"accuracy value：\", accuracy)\n",
    "\n",
    "np.set_printoptions(suppress=True)\n",
    "influence = model_sm.get_influence()\n",
    "cooks = influence.cooks_distance\n",
    "print(cooks)\n",
    "pyplot.scatter(X[['Year']], cooks[0])\n",
    "pyplot.xlabel('Year')\n",
    "pyplot.ylabel('Cooks Distance')\n",
    "pyplot.show()\n",
    "\n",
    "import statsmodels.api as sm\n",
    "from statsmodels.stats.outliers_influence import OLSInfluence as olsi\n",
    "x1 = IntegrationData['Year'].values\n",
    "y1 = IntegrationData['LandAndOceanAverageTemperature'].values\n",
    "lm = sm.OLS(y1, x1).fit()\n",
    "studentized_residuals = olsi(lm).resid_studentized\n",
    "leverage_pts = olsi(lm).hat_matrix_diag\n",
    "cook_dist = olsi(lm).cooks_distance\n",
    "fig, ax = pyplot.subplots(figsize=(12,8))\n",
    "fig = sm.graphics.influence_plot(lm, alpha  =0.05, ax = ax, criterion=\"cooks\")\n",
    "\n",
    "#Linear between Gas emmision and Global Temperature\n",
    "X_2=X[['CO2_emission']]\n",
    "\n",
    "y = IntegrationData['LandAndOceanAverageTemperature'].values\n",
    "regressor = LinearRegression()\n",
    "regressor.fit(X_2, y)\n",
    "\n",
    "print(regressor.coef_)        \n",
    "print(regressor.intercept_)   \n",
    "print(regressor.score(X_2, y))  \n",
    "\n",
    "pyplot.scatter(X_2, y)\n",
    "pyplot.plot(X_2, regressor.predict(X_2), color='red')\n",
    "pyplot.show()"
   ]
  },
  {
   "cell_type": "code",
   "execution_count": 15,
   "id": "f66d758f",
   "metadata": {},
   "outputs": [
    {
     "data": {
      "image/png": "[encoded data removed]",
      "text/plain": [
       "<Figure size 432x288 with 1 Axes>"
      ]
     },
     "metadata": {
      "needs_background": "light"
     },
     "output_type": "display_data"
    }
   ],
   "source": [
    "# Time series Model\n",
    "dates=X[['Year']]\n",
    "TemperatureVals=IntegrationData['LandAndOceanAverageTemperature'].values\n",
    "# Plot the time series\n",
    "pyplot.plot(dates, TemperatureVals)\n",
    "pyplot.xlabel('Date')\n",
    "pyplot.ylabel('Temperature')\n",
    "pyplot.title('Time Series Plot')\n",
    "pyplot.show()"
   ]
  },
  {
   "cell_type": "code",
   "execution_count": 16,
   "id": "301733c8",
   "metadata": {},
   "outputs": [
    {
     "name": "stdout",
     "output_type": "stream",
     "text": [
      "shape of original dataset : (36, 10)\n",
      "shape of input - training set (28, 9)\n",
      "shape of output - training set (28,)\n",
      "shape of input - testing set (8, 9)\n",
      "shape of output - testing set (8,)\n",
      "                               SARIMAX Results                                \n",
      "==============================================================================\n",
      "Dep. Variable:                      y   No. Observations:                   36\n",
      "Model:                          ARIMA   Log Likelihood                   9.609\n",
      "Date:                Sun, 08 Oct 2023   AIC                            -15.218\n",
      "Time:                        09:28:11   BIC                            -12.051\n",
      "Sample:                             0   HQIC                           -14.113\n",
      "                                 - 36                                         \n",
      "Covariance Type:                  opg                                         \n",
      "==============================================================================\n",
      "                 coef    std err          z      P>|z|      [0.025      0.975]\n",
      "------------------------------------------------------------------------------\n",
      "const         15.6555      0.031    506.973      0.000      15.595      15.716\n",
      "sigma2         0.0343      0.011      3.034      0.002       0.012       0.057\n",
      "===================================================================================\n",
      "Ljung-Box (L1) (Q):                  21.77   Jarque-Bera (JB):                 1.43\n",
      "Prob(Q):                              0.00   Prob(JB):                         0.49\n",
      "Heteroskedasticity (H):               1.00   Skew:                            -0.01\n",
      "Prob(H) (two-sided):                  1.00   Kurtosis:                         2.02\n",
      "===================================================================================\n",
      "\n",
      "Warnings:\n",
      "[1] Covariance matrix calculated using the outer product of gradients (complex-step).\n"
     ]
    },
    {
     "data": {
      "image/png": "[encoded data removed]",
      "text/plain": [
       "<Figure size 432x288 with 2 Axes>"
      ]
     },
     "metadata": {
      "needs_background": "light"
     },
     "output_type": "display_data"
    }
   ],
   "source": [
    "# 07-DM\n",
    "#\n",
    "from sklearn.model_selection import train_test_split\n",
    "\n",
    "y=IntegrationData['LandAndOceanAverageTemperature']\n",
    "x=IntegrationData.drop('LandAndOceanAverageTemperature',axis=1)\n",
    "x_train,x_test,y_train,y_test=train_test_split(x,y,test_size=0.2)\n",
    "print(\"shape of original dataset :\", IntegrationData.shape)\n",
    "print(\"shape of input - training set\", x_train.shape)\n",
    "print(\"shape of output - training set\", y_train.shape)\n",
    "print(\"shape of input - testing set\", x_test.shape)\n",
    "print(\"shape of output - testing set\", y_test.shape)\n",
    "IntegrationData=pd.read_csv('mergedData1980.csv')\n",
    "IntegrationData.describe()\n",
    "\n",
    "from statsmodels.tsa.arima.model import ARIMA\n",
    "\n",
    "model = ARIMA(IntegrationData['LandAndOceanAverageTemperature'].values)\n",
    "model_fit = model.fit()\n",
    "print(model_fit.summary())\n",
    "\n",
    "\n",
    "residuals = IntegrationData['LandAndOceanAverageTemperature']\n",
    "fig, ax = pyplot.subplots(1,2)\n",
    "residuals.plot(title=\"Residuals\", ax=ax[0])\n",
    "residuals.plot(kind='kde', title='Density', ax=ax[1])\n",
    "pyplot.show()\n",
    "\n",
    "model_fit.predict(dynamic=False)\n",
    "pyplot.show()"
   ]
  },
  {
   "cell_type": "code",
   "execution_count": 46,
   "id": "50be4f58",
   "metadata": {},
   "outputs": [
    {
     "name": "stdout",
     "output_type": "stream",
     "text": [
      "[0.55838042]\n",
      "10.485148696755967\n",
      "0.9449878408942087\n"
     ]
    },
    {
     "data": {
      "image/png": "[encoded data removed]",
      "text/plain": [
       "<Figure size 432x288 with 1 Axes>"
      ]
     },
     "metadata": {
      "needs_background": "light"
     },
     "output_type": "display_data"
    },
    {
     "data": {
      "image/png": "[encoded data removed]",
      "text/plain": [
       "<Figure size 432x288 with 1 Axes>"
      ]
     },
     "metadata": {
      "needs_background": "light"
     },
     "output_type": "display_data"
    },
    {
     "data": {
      "image/png": "[encoded data removed]",
      "text/plain": [
       "<Figure size 432x288 with 1 Axes>"
      ]
     },
     "metadata": {
      "needs_background": "light"
     },
     "output_type": "display_data"
    },
    {
     "data": {
      "image/png": "[encoded data removed]",
      "text/plain": [
       "<Figure size 432x288 with 1 Axes>"
      ]
     },
     "metadata": {
      "needs_background": "light"
     },
     "output_type": "display_data"
    }
   ],
   "source": [
    "# 08-INT\n",
    "X=IntegrationData.drop(['LandAndOceanAverageTemperature'],axis=1)\n",
    "X_3=X[['LandAverageTemperature']]\n",
    "\n",
    "y = IntegrationData['LandAndOceanAverageTemperature'].values\n",
    "regressor = LinearRegression()\n",
    "regressor.fit(X_3, y)\n",
    "\n",
    "print(regressor.coef_)        \n",
    "print(regressor.intercept_)   \n",
    "print(regressor.score(X_3, y))  \n",
    "\n",
    "pyplot.scatter(X_3, y)\n",
    "pyplot.plot(X_3,regressor.predict(X_3), color='red')\n",
    "pyplot.show()\n",
    "X_4=X[['Year']]\n",
    "regressor = LinearRegression()\n",
    "regressor.fit(X_4, y)\n",
    "pyplot.scatter(X_4, y)\n",
    "pyplot.plot(X_4,regressor.predict(X_4), color='red')\n",
    "pyplot.show()\n",
    "X_5=X[['CO2_emission']]\n",
    "regressor = LinearRegression()\n",
    "regressor.fit(X_5, y)\n",
    "pyplot.scatter(X_5, y)\n",
    "pyplot.plot(X_5,regressor.predict(X_5), color='red')\n",
    "pyplot.show()\n",
    "\n",
    "pyplot.scatter(IntegrationData['Year'],IntegrationData['LandAndOceanAverageTemperature'])\n",
    "pyplot.title('Scatter Plot')\n",
    "pyplot.xlabel('Year')\n",
    "pyplot.ylabel('LandAndOceanAverageTemperature')\n",
    "pyplot.show()"
   ]
  },
  {
   "cell_type": "code",
   "execution_count": 32,
   "id": "7b112de8",
   "metadata": {},
   "outputs": [
    {
     "name": "stdout",
     "output_type": "stream",
     "text": [
      "[0.00183976]\n",
      "14.90606593732892\n",
      "0.7433628142408861\n"
     ]
    },
    {
     "data": {
      "image/png": "[encoded data removed]",
      "text/plain": [
       "<Figure size 432x288 with 1 Axes>"
      ]
     },
     "metadata": {
      "needs_background": "light"
     },
     "output_type": "display_data"
    }
   ],
   "source": [
    "#8.5.1.\tIteration Repetition\n",
    "X=IntegrationData.drop(['LandAndOceanAverageTemperature'],axis=1)\n",
    "X_1=X[['Energy_consumption']]\n",
    "\n",
    "y = IntegrationData['LandAndOceanAverageTemperature'].values\n",
    "regressor = LinearRegression()\n",
    "regressor.fit(X_1, y)\n",
    "\n",
    "print(regressor.coef_)        \n",
    "print(regressor.intercept_)   \n",
    "print(regressor.score(X_1, y))  \n",
    "\n",
    "pyplot.scatter(X_1, y)\n",
    "pyplot.plot(X_1, regressor.predict(X_1), color='red')\n",
    "pyplot.show()\n"
   ]
  },
  {
   "cell_type": "code",
   "execution_count": 45,
   "id": "627a5bcc",
   "metadata": {},
   "outputs": [
    {
     "ename": "ValueError",
     "evalue": "Input X contains NaN.\nLinearRegression does not accept missing values encoded as NaN natively. For supervised learning, you might want to consider sklearn.ensemble.HistGradientBoostingClassifier and Regressor which accept missing values encoded as NaNs natively. Alternatively, it is possible to preprocess the data, for instance by using an imputer transformer in a pipeline or drop samples with missing values. See https://scikit-learn.org/stable/modules/impute.html You can find a list of all estimators that handle NaN values at the following page: https://scikit-learn.org/stable/modules/impute.html#estimators-that-handle-nan-values",
     "output_type": "error",
     "traceback": [
      "\u001b[0;31m---------------------------------------------------------------------------\u001b[0m",
      "\u001b[0;31mValueError\u001b[0m                                Traceback (most recent call last)",
      "Input \u001b[0;32mIn [45]\u001b[0m, in \u001b[0;36m<cell line: 7>\u001b[0;34m()\u001b[0m\n\u001b[1;32m      5\u001b[0m y \u001b[38;5;241m=\u001b[39m IntegrationDataFull[\u001b[38;5;124m'\u001b[39m\u001b[38;5;124mLandAndOceanAverageTemperature\u001b[39m\u001b[38;5;124m'\u001b[39m]\u001b[38;5;241m.\u001b[39mvalues\n\u001b[1;32m      6\u001b[0m regressor \u001b[38;5;241m=\u001b[39m LinearRegression()\n\u001b[0;32m----> 7\u001b[0m \u001b[43mregressor\u001b[49m\u001b[38;5;241;43m.\u001b[39;49m\u001b[43mfit\u001b[49m\u001b[43m(\u001b[49m\u001b[43mX_1\u001b[49m\u001b[43m,\u001b[49m\u001b[43m \u001b[49m\u001b[43my\u001b[49m\u001b[43m)\u001b[49m\n\u001b[1;32m      9\u001b[0m \u001b[38;5;28mprint\u001b[39m(regressor\u001b[38;5;241m.\u001b[39mcoef_)        \n\u001b[1;32m     10\u001b[0m \u001b[38;5;28mprint\u001b[39m(regressor\u001b[38;5;241m.\u001b[39mintercept_)   \n",
      "File \u001b[0;32m~/.local/lib/python3.10/site-packages/sklearn/base.py:1152\u001b[0m, in \u001b[0;36m_fit_context.<locals>.decorator.<locals>.wrapper\u001b[0;34m(estimator, *args, **kwargs)\u001b[0m\n\u001b[1;32m   1145\u001b[0m     estimator\u001b[38;5;241m.\u001b[39m_validate_params()\n\u001b[1;32m   1147\u001b[0m \u001b[38;5;28;01mwith\u001b[39;00m config_context(\n\u001b[1;32m   1148\u001b[0m     skip_parameter_validation\u001b[38;5;241m=\u001b[39m(\n\u001b[1;32m   1149\u001b[0m         prefer_skip_nested_validation \u001b[38;5;129;01mor\u001b[39;00m global_skip_validation\n\u001b[1;32m   1150\u001b[0m     )\n\u001b[1;32m   1151\u001b[0m ):\n\u001b[0;32m-> 1152\u001b[0m     \u001b[38;5;28;01mreturn\u001b[39;00m \u001b[43mfit_method\u001b[49m\u001b[43m(\u001b[49m\u001b[43mestimator\u001b[49m\u001b[43m,\u001b[49m\u001b[43m \u001b[49m\u001b[38;5;241;43m*\u001b[39;49m\u001b[43margs\u001b[49m\u001b[43m,\u001b[49m\u001b[43m \u001b[49m\u001b[38;5;241;43m*\u001b[39;49m\u001b[38;5;241;43m*\u001b[39;49m\u001b[43mkwargs\u001b[49m\u001b[43m)\u001b[49m\n",
      "File \u001b[0;32m~/.local/lib/python3.10/site-packages/sklearn/linear_model/_base.py:678\u001b[0m, in \u001b[0;36mLinearRegression.fit\u001b[0;34m(self, X, y, sample_weight)\u001b[0m\n\u001b[1;32m    674\u001b[0m n_jobs_ \u001b[38;5;241m=\u001b[39m \u001b[38;5;28mself\u001b[39m\u001b[38;5;241m.\u001b[39mn_jobs\n\u001b[1;32m    676\u001b[0m accept_sparse \u001b[38;5;241m=\u001b[39m \u001b[38;5;28;01mFalse\u001b[39;00m \u001b[38;5;28;01mif\u001b[39;00m \u001b[38;5;28mself\u001b[39m\u001b[38;5;241m.\u001b[39mpositive \u001b[38;5;28;01melse\u001b[39;00m [\u001b[38;5;124m\"\u001b[39m\u001b[38;5;124mcsr\u001b[39m\u001b[38;5;124m\"\u001b[39m, \u001b[38;5;124m\"\u001b[39m\u001b[38;5;124mcsc\u001b[39m\u001b[38;5;124m\"\u001b[39m, \u001b[38;5;124m\"\u001b[39m\u001b[38;5;124mcoo\u001b[39m\u001b[38;5;124m\"\u001b[39m]\n\u001b[0;32m--> 678\u001b[0m X, y \u001b[38;5;241m=\u001b[39m \u001b[38;5;28;43mself\u001b[39;49m\u001b[38;5;241;43m.\u001b[39;49m\u001b[43m_validate_data\u001b[49m\u001b[43m(\u001b[49m\n\u001b[1;32m    679\u001b[0m \u001b[43m    \u001b[49m\u001b[43mX\u001b[49m\u001b[43m,\u001b[49m\u001b[43m \u001b[49m\u001b[43my\u001b[49m\u001b[43m,\u001b[49m\u001b[43m \u001b[49m\u001b[43maccept_sparse\u001b[49m\u001b[38;5;241;43m=\u001b[39;49m\u001b[43maccept_sparse\u001b[49m\u001b[43m,\u001b[49m\u001b[43m \u001b[49m\u001b[43my_numeric\u001b[49m\u001b[38;5;241;43m=\u001b[39;49m\u001b[38;5;28;43;01mTrue\u001b[39;49;00m\u001b[43m,\u001b[49m\u001b[43m \u001b[49m\u001b[43mmulti_output\u001b[49m\u001b[38;5;241;43m=\u001b[39;49m\u001b[38;5;28;43;01mTrue\u001b[39;49;00m\n\u001b[1;32m    680\u001b[0m \u001b[43m\u001b[49m\u001b[43m)\u001b[49m\n\u001b[1;32m    682\u001b[0m has_sw \u001b[38;5;241m=\u001b[39m sample_weight \u001b[38;5;129;01mis\u001b[39;00m \u001b[38;5;129;01mnot\u001b[39;00m \u001b[38;5;28;01mNone\u001b[39;00m\n\u001b[1;32m    683\u001b[0m \u001b[38;5;28;01mif\u001b[39;00m has_sw:\n",
      "File \u001b[0;32m~/.local/lib/python3.10/site-packages/sklearn/base.py:622\u001b[0m, in \u001b[0;36mBaseEstimator._validate_data\u001b[0;34m(self, X, y, reset, validate_separately, cast_to_ndarray, **check_params)\u001b[0m\n\u001b[1;32m    620\u001b[0m         y \u001b[38;5;241m=\u001b[39m check_array(y, input_name\u001b[38;5;241m=\u001b[39m\u001b[38;5;124m\"\u001b[39m\u001b[38;5;124my\u001b[39m\u001b[38;5;124m\"\u001b[39m, \u001b[38;5;241m*\u001b[39m\u001b[38;5;241m*\u001b[39mcheck_y_params)\n\u001b[1;32m    621\u001b[0m     \u001b[38;5;28;01melse\u001b[39;00m:\n\u001b[0;32m--> 622\u001b[0m         X, y \u001b[38;5;241m=\u001b[39m \u001b[43mcheck_X_y\u001b[49m\u001b[43m(\u001b[49m\u001b[43mX\u001b[49m\u001b[43m,\u001b[49m\u001b[43m \u001b[49m\u001b[43my\u001b[49m\u001b[43m,\u001b[49m\u001b[43m \u001b[49m\u001b[38;5;241;43m*\u001b[39;49m\u001b[38;5;241;43m*\u001b[39;49m\u001b[43mcheck_params\u001b[49m\u001b[43m)\u001b[49m\n\u001b[1;32m    623\u001b[0m     out \u001b[38;5;241m=\u001b[39m X, y\n\u001b[1;32m    625\u001b[0m \u001b[38;5;28;01mif\u001b[39;00m \u001b[38;5;129;01mnot\u001b[39;00m no_val_X \u001b[38;5;129;01mand\u001b[39;00m check_params\u001b[38;5;241m.\u001b[39mget(\u001b[38;5;124m\"\u001b[39m\u001b[38;5;124mensure_2d\u001b[39m\u001b[38;5;124m\"\u001b[39m, \u001b[38;5;28;01mTrue\u001b[39;00m):\n",
      "File \u001b[0;32m~/.local/lib/python3.10/site-packages/sklearn/utils/validation.py:1146\u001b[0m, in \u001b[0;36mcheck_X_y\u001b[0;34m(X, y, accept_sparse, accept_large_sparse, dtype, order, copy, force_all_finite, ensure_2d, allow_nd, multi_output, ensure_min_samples, ensure_min_features, y_numeric, estimator)\u001b[0m\n\u001b[1;32m   1141\u001b[0m         estimator_name \u001b[38;5;241m=\u001b[39m _check_estimator_name(estimator)\n\u001b[1;32m   1142\u001b[0m     \u001b[38;5;28;01mraise\u001b[39;00m \u001b[38;5;167;01mValueError\u001b[39;00m(\n\u001b[1;32m   1143\u001b[0m         \u001b[38;5;124mf\u001b[39m\u001b[38;5;124m\"\u001b[39m\u001b[38;5;132;01m{\u001b[39;00mestimator_name\u001b[38;5;132;01m}\u001b[39;00m\u001b[38;5;124m requires y to be passed, but the target y is None\u001b[39m\u001b[38;5;124m\"\u001b[39m\n\u001b[1;32m   1144\u001b[0m     )\n\u001b[0;32m-> 1146\u001b[0m X \u001b[38;5;241m=\u001b[39m \u001b[43mcheck_array\u001b[49m\u001b[43m(\u001b[49m\n\u001b[1;32m   1147\u001b[0m \u001b[43m    \u001b[49m\u001b[43mX\u001b[49m\u001b[43m,\u001b[49m\n\u001b[1;32m   1148\u001b[0m \u001b[43m    \u001b[49m\u001b[43maccept_sparse\u001b[49m\u001b[38;5;241;43m=\u001b[39;49m\u001b[43maccept_sparse\u001b[49m\u001b[43m,\u001b[49m\n\u001b[1;32m   1149\u001b[0m \u001b[43m    \u001b[49m\u001b[43maccept_large_sparse\u001b[49m\u001b[38;5;241;43m=\u001b[39;49m\u001b[43maccept_large_sparse\u001b[49m\u001b[43m,\u001b[49m\n\u001b[1;32m   1150\u001b[0m \u001b[43m    \u001b[49m\u001b[43mdtype\u001b[49m\u001b[38;5;241;43m=\u001b[39;49m\u001b[43mdtype\u001b[49m\u001b[43m,\u001b[49m\n\u001b[1;32m   1151\u001b[0m \u001b[43m    \u001b[49m\u001b[43morder\u001b[49m\u001b[38;5;241;43m=\u001b[39;49m\u001b[43morder\u001b[49m\u001b[43m,\u001b[49m\n\u001b[1;32m   1152\u001b[0m \u001b[43m    \u001b[49m\u001b[43mcopy\u001b[49m\u001b[38;5;241;43m=\u001b[39;49m\u001b[43mcopy\u001b[49m\u001b[43m,\u001b[49m\n\u001b[1;32m   1153\u001b[0m \u001b[43m    \u001b[49m\u001b[43mforce_all_finite\u001b[49m\u001b[38;5;241;43m=\u001b[39;49m\u001b[43mforce_all_finite\u001b[49m\u001b[43m,\u001b[49m\n\u001b[1;32m   1154\u001b[0m \u001b[43m    \u001b[49m\u001b[43mensure_2d\u001b[49m\u001b[38;5;241;43m=\u001b[39;49m\u001b[43mensure_2d\u001b[49m\u001b[43m,\u001b[49m\n\u001b[1;32m   1155\u001b[0m \u001b[43m    \u001b[49m\u001b[43mallow_nd\u001b[49m\u001b[38;5;241;43m=\u001b[39;49m\u001b[43mallow_nd\u001b[49m\u001b[43m,\u001b[49m\n\u001b[1;32m   1156\u001b[0m \u001b[43m    \u001b[49m\u001b[43mensure_min_samples\u001b[49m\u001b[38;5;241;43m=\u001b[39;49m\u001b[43mensure_min_samples\u001b[49m\u001b[43m,\u001b[49m\n\u001b[1;32m   1157\u001b[0m \u001b[43m    \u001b[49m\u001b[43mensure_min_features\u001b[49m\u001b[38;5;241;43m=\u001b[39;49m\u001b[43mensure_min_features\u001b[49m\u001b[43m,\u001b[49m\n\u001b[1;32m   1158\u001b[0m \u001b[43m    \u001b[49m\u001b[43mestimator\u001b[49m\u001b[38;5;241;43m=\u001b[39;49m\u001b[43mestimator\u001b[49m\u001b[43m,\u001b[49m\n\u001b[1;32m   1159\u001b[0m \u001b[43m    \u001b[49m\u001b[43minput_name\u001b[49m\u001b[38;5;241;43m=\u001b[39;49m\u001b[38;5;124;43m\"\u001b[39;49m\u001b[38;5;124;43mX\u001b[39;49m\u001b[38;5;124;43m\"\u001b[39;49m\u001b[43m,\u001b[49m\n\u001b[1;32m   1160\u001b[0m \u001b[43m\u001b[49m\u001b[43m)\u001b[49m\n\u001b[1;32m   1162\u001b[0m y \u001b[38;5;241m=\u001b[39m _check_y(y, multi_output\u001b[38;5;241m=\u001b[39mmulti_output, y_numeric\u001b[38;5;241m=\u001b[39my_numeric, estimator\u001b[38;5;241m=\u001b[39mestimator)\n\u001b[1;32m   1164\u001b[0m check_consistent_length(X, y)\n",
      "File \u001b[0;32m~/.local/lib/python3.10/site-packages/sklearn/utils/validation.py:957\u001b[0m, in \u001b[0;36mcheck_array\u001b[0;34m(array, accept_sparse, accept_large_sparse, dtype, order, copy, force_all_finite, ensure_2d, allow_nd, ensure_min_samples, ensure_min_features, estimator, input_name)\u001b[0m\n\u001b[1;32m    951\u001b[0m         \u001b[38;5;28;01mraise\u001b[39;00m \u001b[38;5;167;01mValueError\u001b[39;00m(\n\u001b[1;32m    952\u001b[0m             \u001b[38;5;124m\"\u001b[39m\u001b[38;5;124mFound array with dim \u001b[39m\u001b[38;5;132;01m%d\u001b[39;00m\u001b[38;5;124m. \u001b[39m\u001b[38;5;132;01m%s\u001b[39;00m\u001b[38;5;124m expected <= 2.\u001b[39m\u001b[38;5;124m\"\u001b[39m\n\u001b[1;32m    953\u001b[0m             \u001b[38;5;241m%\u001b[39m (array\u001b[38;5;241m.\u001b[39mndim, estimator_name)\n\u001b[1;32m    954\u001b[0m         )\n\u001b[1;32m    956\u001b[0m     \u001b[38;5;28;01mif\u001b[39;00m force_all_finite:\n\u001b[0;32m--> 957\u001b[0m         \u001b[43m_assert_all_finite\u001b[49m\u001b[43m(\u001b[49m\n\u001b[1;32m    958\u001b[0m \u001b[43m            \u001b[49m\u001b[43marray\u001b[49m\u001b[43m,\u001b[49m\n\u001b[1;32m    959\u001b[0m \u001b[43m            \u001b[49m\u001b[43minput_name\u001b[49m\u001b[38;5;241;43m=\u001b[39;49m\u001b[43minput_name\u001b[49m\u001b[43m,\u001b[49m\n\u001b[1;32m    960\u001b[0m \u001b[43m            \u001b[49m\u001b[43mestimator_name\u001b[49m\u001b[38;5;241;43m=\u001b[39;49m\u001b[43mestimator_name\u001b[49m\u001b[43m,\u001b[49m\n\u001b[1;32m    961\u001b[0m \u001b[43m            \u001b[49m\u001b[43mallow_nan\u001b[49m\u001b[38;5;241;43m=\u001b[39;49m\u001b[43mforce_all_finite\u001b[49m\u001b[43m \u001b[49m\u001b[38;5;241;43m==\u001b[39;49m\u001b[43m \u001b[49m\u001b[38;5;124;43m\"\u001b[39;49m\u001b[38;5;124;43mallow-nan\u001b[39;49m\u001b[38;5;124;43m\"\u001b[39;49m\u001b[43m,\u001b[49m\n\u001b[1;32m    962\u001b[0m \u001b[43m        \u001b[49m\u001b[43m)\u001b[49m\n\u001b[1;32m    964\u001b[0m \u001b[38;5;28;01mif\u001b[39;00m ensure_min_samples \u001b[38;5;241m>\u001b[39m \u001b[38;5;241m0\u001b[39m:\n\u001b[1;32m    965\u001b[0m     n_samples \u001b[38;5;241m=\u001b[39m _num_samples(array)\n",
      "File \u001b[0;32m~/.local/lib/python3.10/site-packages/sklearn/utils/validation.py:122\u001b[0m, in \u001b[0;36m_assert_all_finite\u001b[0;34m(X, allow_nan, msg_dtype, estimator_name, input_name)\u001b[0m\n\u001b[1;32m    119\u001b[0m \u001b[38;5;28;01mif\u001b[39;00m first_pass_isfinite:\n\u001b[1;32m    120\u001b[0m     \u001b[38;5;28;01mreturn\u001b[39;00m\n\u001b[0;32m--> 122\u001b[0m \u001b[43m_assert_all_finite_element_wise\u001b[49m\u001b[43m(\u001b[49m\n\u001b[1;32m    123\u001b[0m \u001b[43m    \u001b[49m\u001b[43mX\u001b[49m\u001b[43m,\u001b[49m\n\u001b[1;32m    124\u001b[0m \u001b[43m    \u001b[49m\u001b[43mxp\u001b[49m\u001b[38;5;241;43m=\u001b[39;49m\u001b[43mxp\u001b[49m\u001b[43m,\u001b[49m\n\u001b[1;32m    125\u001b[0m \u001b[43m    \u001b[49m\u001b[43mallow_nan\u001b[49m\u001b[38;5;241;43m=\u001b[39;49m\u001b[43mallow_nan\u001b[49m\u001b[43m,\u001b[49m\n\u001b[1;32m    126\u001b[0m \u001b[43m    \u001b[49m\u001b[43mmsg_dtype\u001b[49m\u001b[38;5;241;43m=\u001b[39;49m\u001b[43mmsg_dtype\u001b[49m\u001b[43m,\u001b[49m\n\u001b[1;32m    127\u001b[0m \u001b[43m    \u001b[49m\u001b[43mestimator_name\u001b[49m\u001b[38;5;241;43m=\u001b[39;49m\u001b[43mestimator_name\u001b[49m\u001b[43m,\u001b[49m\n\u001b[1;32m    128\u001b[0m \u001b[43m    \u001b[49m\u001b[43minput_name\u001b[49m\u001b[38;5;241;43m=\u001b[39;49m\u001b[43minput_name\u001b[49m\u001b[43m,\u001b[49m\n\u001b[1;32m    129\u001b[0m \u001b[43m\u001b[49m\u001b[43m)\u001b[49m\n",
      "File \u001b[0;32m~/.local/lib/python3.10/site-packages/sklearn/utils/validation.py:171\u001b[0m, in \u001b[0;36m_assert_all_finite_element_wise\u001b[0;34m(X, xp, allow_nan, msg_dtype, estimator_name, input_name)\u001b[0m\n\u001b[1;32m    154\u001b[0m \u001b[38;5;28;01mif\u001b[39;00m estimator_name \u001b[38;5;129;01mand\u001b[39;00m input_name \u001b[38;5;241m==\u001b[39m \u001b[38;5;124m\"\u001b[39m\u001b[38;5;124mX\u001b[39m\u001b[38;5;124m\"\u001b[39m \u001b[38;5;129;01mand\u001b[39;00m has_nan_error:\n\u001b[1;32m    155\u001b[0m     \u001b[38;5;66;03m# Improve the error message on how to handle missing values in\u001b[39;00m\n\u001b[1;32m    156\u001b[0m     \u001b[38;5;66;03m# scikit-learn.\u001b[39;00m\n\u001b[1;32m    157\u001b[0m     msg_err \u001b[38;5;241m+\u001b[39m\u001b[38;5;241m=\u001b[39m (\n\u001b[1;32m    158\u001b[0m         \u001b[38;5;124mf\u001b[39m\u001b[38;5;124m\"\u001b[39m\u001b[38;5;130;01m\\n\u001b[39;00m\u001b[38;5;132;01m{\u001b[39;00mestimator_name\u001b[38;5;132;01m}\u001b[39;00m\u001b[38;5;124m does not accept missing values\u001b[39m\u001b[38;5;124m\"\u001b[39m\n\u001b[1;32m    159\u001b[0m         \u001b[38;5;124m\"\u001b[39m\u001b[38;5;124m encoded as NaN natively. For supervised learning, you might want\u001b[39m\u001b[38;5;124m\"\u001b[39m\n\u001b[0;32m   (...)\u001b[0m\n\u001b[1;32m    169\u001b[0m         \u001b[38;5;124m\"\u001b[39m\u001b[38;5;124m#estimators-that-handle-nan-values\u001b[39m\u001b[38;5;124m\"\u001b[39m\n\u001b[1;32m    170\u001b[0m     )\n\u001b[0;32m--> 171\u001b[0m \u001b[38;5;28;01mraise\u001b[39;00m \u001b[38;5;167;01mValueError\u001b[39;00m(msg_err)\n",
      "\u001b[0;31mValueError\u001b[0m: Input X contains NaN.\nLinearRegression does not accept missing values encoded as NaN natively. For supervised learning, you might want to consider sklearn.ensemble.HistGradientBoostingClassifier and Regressor which accept missing values encoded as NaNs natively. Alternatively, it is possible to preprocess the data, for instance by using an imputer transformer in a pipeline or drop samples with missing values. See https://scikit-learn.org/stable/modules/impute.html You can find a list of all estimators that handle NaN values at the following page: https://scikit-learn.org/stable/modules/impute.html#estimators-that-handle-nan-values"
     ]
    }
   ],
   "source": [
    "#Error by using IntegrationDataFull.csv\n",
    "'''X=IntegrationDataFull.drop(['LandAndOceanAverageTemperature'],axis=1)\n",
    "X_1=X[['Energy_consumption']]\n",
    "\n",
    "y = IntegrationDataFull['LandAndOceanAverageTemperature'].values\n",
    "regressor = LinearRegression()\n",
    "regressor.fit(X_1, y)\n",
    "\n",
    "print(regressor.coef_)        \n",
    "print(regressor.intercept_)   \n",
    "print(regressor.score(X_1, y))  \n",
    "\n",
    "pyplot.scatter(X_1, y)\n",
    "pyplot.plot(X_1, regressor.predict(X_1), color='red')\n",
    "pyplot.show()\n",
    "'''"
   ]
  },
  {
   "cell_type": "code",
   "execution_count": null,
   "id": "313fff62",
   "metadata": {},
   "outputs": [],
   "source": []
  }
 ],
 "metadata": {
  "kernelspec": {
   "display_name": "Python 3 (ipykernel)",
   "language": "python",
   "name": "python3"
  },
  "language_info": {
   "codemirror_mode": {
    "name": "ipython",
    "version": 3
   },
   "file_extension": ".py",
   "mimetype": "text/x-python",
   "name": "python",
   "nbconvert_exporter": "python",
   "pygments_lexer": "ipython3",
   "version": "3.10.12"
  }
 },
 "nbformat": 4,
 "nbformat_minor": 5
}
